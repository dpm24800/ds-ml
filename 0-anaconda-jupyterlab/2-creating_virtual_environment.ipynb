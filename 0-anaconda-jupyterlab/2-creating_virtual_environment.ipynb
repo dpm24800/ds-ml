{
 "cells": [
  {
   "cell_type": "markdown",
   "id": "30e51203",
   "metadata": {},
   "source": [
    "### Creating a virtual environment\n",
    "- `conda create -p venv python==3.10`\n",
    "- `conda create -p env python>=c3.10`\n",
    "  - `-p`: Environment stored at the exact path you specify.\n",
    "  - `-n`: Named environment stored in the default envs/ folder.\n",
    "\n",
    "`python==3.10` \n",
    "- Specify the python version you want to install within that virtual environment. \n",
    "- If left unspecified, current python version in the machine will be installed.\n",
    "\n",
    "### Activating virtual environment\n",
    "- Sytnax: `conda activate \"full-path\"`  \n",
    "- Example: `conda activate C:\\Users\\NAN\\Desktop\\Swivt\\venv`\n",
    "\n",
    "### Installing JupyterLab\n",
    "- `pip install jupyterlab` \n",
    "\n",
    "### Opening Jupyter Lab\n",
    "- `jupyter-lab`"
   ]
  }
 ],
 "metadata": {
  "language_info": {
   "name": "python"
  }
 },
 "nbformat": 4,
 "nbformat_minor": 5
}

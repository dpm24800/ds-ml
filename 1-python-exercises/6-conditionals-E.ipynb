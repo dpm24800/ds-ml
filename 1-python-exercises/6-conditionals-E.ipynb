{
 "cells": [
  {
   "cell_type": "code",
   "execution_count": null,
   "id": "4c5892cf",
   "metadata": {},
   "outputs": [
    {
     "name": "stdout",
     "output_type": "stream",
     "text": [
      "-45.0 is a negative number.\n"
     ]
    }
   ],
   "source": [
    "# WAP to check if a number is positive, negative or zero.\n",
    "num = float(input(\"Enter a number: \"))\n",
    "if num > 0:\n",
    " print(f\"{num} is a positive number.\")\n",
    "elif num == 0:\n",
    " print(\"Zero\")\n",
    "else:\n",
    " print(f\"{num} is a negative number.\")"
   ]
  },
  {
   "cell_type": "code",
   "execution_count": null,
   "id": "caf18030",
   "metadata": {},
   "outputs": [],
   "source": [
    "# WAP to check if a number is odd or even.\n",
    "num = int(input(\"Enter a number: \"))\n",
    "if num%2 == 0:\n",
    " print(f\"{num} is an even number.\")\n",
    "else:\n",
    " print(f\"{num} is an odd number.\")"
   ]
  }
 ],
 "metadata": {
  "kernelspec": {
   "display_name": "Python 3",
   "language": "python",
   "name": "python3"
  },
  "language_info": {
   "codemirror_mode": {
    "name": "ipython",
    "version": 3
   },
   "file_extension": ".py",
   "mimetype": "text/x-python",
   "name": "python",
   "nbconvert_exporter": "python",
   "pygments_lexer": "ipython3",
   "version": "3.13.3"
  }
 },
 "nbformat": 4,
 "nbformat_minor": 5
}

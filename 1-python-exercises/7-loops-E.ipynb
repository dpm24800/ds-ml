{
 "cells": [
  {
   "cell_type": "code",
   "execution_count": 3,
   "id": "614a5604",
   "metadata": {},
   "outputs": [
    {
     "name": "stdout",
     "output_type": "stream",
     "text": [
      "Multiplication table of: 56\n",
      "56 X 1 = 56\n",
      "56 X 2 = 112\n",
      "56 X 3 = 168\n",
      "56 X 4 = 224\n",
      "56 X 5 = 280\n",
      "56 X 6 = 336\n",
      "56 X 7 = 392\n",
      "56 X 8 = 448\n",
      "56 X 9 = 504\n",
      "56 X 10 = 560\n"
     ]
    }
   ],
   "source": [
    "num = int(input(\"Show multiplication table of: \"))\n",
    "\n",
    "print(f\"Multiplication table of: {num}\")\n",
    "for i in range(1, 11):\n",
    " print(f\"{num} X {i} = {num * i}\")"
   ]
  }
 ],
 "metadata": {
  "kernelspec": {
   "display_name": "Python 3",
   "language": "python",
   "name": "python3"
  },
  "language_info": {
   "codemirror_mode": {
    "name": "ipython",
    "version": 3
   },
   "file_extension": ".py",
   "mimetype": "text/x-python",
   "name": "python",
   "nbconvert_exporter": "python",
   "pygments_lexer": "ipython3",
   "version": "3.13.3"
  }
 },
 "nbformat": 4,
 "nbformat_minor": 5
}

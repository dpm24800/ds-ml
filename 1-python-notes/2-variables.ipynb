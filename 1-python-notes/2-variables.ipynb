{
 "cells": [
  {
   "cell_type": "code",
   "execution_count": 7,
   "id": "3d49af28",
   "metadata": {},
   "outputs": [
    {
     "name": "stdout",
     "output_type": "stream",
     "text": [
      "{'__name__': '__main__', '__doc__': 'Automatically created module for IPython interactive environment', '__package__': None, '__loader__': None, '__spec__': None, '__builtin__': <module 'builtins' (built-in)>, '__builtins__': <module 'builtins' (built-in)>, '_ih': ['', '# name = \"manoj\"\\nif \\'name\\' in locals() or \\'name\\' in globals():\\n    print(\"Variable is already defined.\")\\nelse:\\n    print(\"Variable is NOT defined.\")', '# listX = [1, 2, 3]\\n\\n# Check again\\ntry:\\n    listX\\nexcept NameError:\\n    print(\"listX is not defined yet\")\\nelse:\\n    print(\"listX already exists\")', 'pritn(vars())', 'print(vars())', '# age = 42\\nif \\'age\\' in vars():\\n    print(\"Variable age is already defined.\")\\nelse:\\n    print(\"Variable not defined.\")', 'print(globals())', 'print(locals())'], '_oh': {}, '_dh': [WindowsPath('e:/arrays')], 'In': ['', '# name = \"manoj\"\\nif \\'name\\' in locals() or \\'name\\' in globals():\\n    print(\"Variable is already defined.\")\\nelse:\\n    print(\"Variable is NOT defined.\")', '# listX = [1, 2, 3]\\n\\n# Check again\\ntry:\\n    listX\\nexcept NameError:\\n    print(\"listX is not defined yet\")\\nelse:\\n    print(\"listX already exists\")', 'pritn(vars())', 'print(vars())', '# age = 42\\nif \\'age\\' in vars():\\n    print(\"Variable age is already defined.\")\\nelse:\\n    print(\"Variable not defined.\")', 'print(globals())', 'print(locals())'], 'Out': {}, 'get_ipython': <bound method InteractiveShell.get_ipython of <ipykernel.zmqshell.ZMQInteractiveShell object at 0x00000261A4A39D30>>, 'exit': <IPython.core.autocall.ZMQExitAutocall object at 0x00000261A520DEB0>, 'quit': <IPython.core.autocall.ZMQExitAutocall object at 0x00000261A520DEB0>, 'open': <function open at 0x00000261A3F32FC0>, '_': '', '__': '', '___': '', '__vsc_ipynb_file__': 'e:\\\\arrays\\\\variables.ipynb', '_i': 'print(globals())', '_ii': '# age = 42\\nif \\'age\\' in vars():\\n    print(\"Variable age is already defined.\")\\nelse:\\n    print(\"Variable not defined.\")', '_iii': 'print(vars())', '_i1': '# name = \"manoj\"\\nif \\'name\\' in locals() or \\'name\\' in globals():\\n    print(\"Variable is already defined.\")\\nelse:\\n    print(\"Variable is NOT defined.\")', '_i2': '# listX = [1, 2, 3]\\n\\n# Check again\\ntry:\\n    listX\\nexcept NameError:\\n    print(\"listX is not defined yet\")\\nelse:\\n    print(\"listX already exists\")', '_i3': 'pritn(vars())', '_i4': 'print(vars())', '_i5': '# age = 42\\nif \\'age\\' in vars():\\n    print(\"Variable age is already defined.\")\\nelse:\\n    print(\"Variable not defined.\")', '_i6': 'print(globals())', '_i7': 'print(locals())'}\n"
     ]
    }
   ],
   "source": [
    "print(locals())"
   ]
  },
  {
   "cell_type": "code",
   "execution_count": 6,
   "id": "11836ee9",
   "metadata": {},
   "outputs": [
    {
     "name": "stdout",
     "output_type": "stream",
     "text": [
      "{'__name__': '__main__', '__doc__': 'Automatically created module for IPython interactive environment', '__package__': None, '__loader__': None, '__spec__': None, '__builtin__': <module 'builtins' (built-in)>, '__builtins__': <module 'builtins' (built-in)>, '_ih': ['', '# name = \"manoj\"\\nif \\'name\\' in locals() or \\'name\\' in globals():\\n    print(\"Variable is already defined.\")\\nelse:\\n    print(\"Variable is NOT defined.\")', '# listX = [1, 2, 3]\\n\\n# Check again\\ntry:\\n    listX\\nexcept NameError:\\n    print(\"listX is not defined yet\")\\nelse:\\n    print(\"listX already exists\")', 'pritn(vars())', 'print(vars())', '# age = 42\\nif \\'age\\' in vars():\\n    print(\"Variable age is already defined.\")\\nelse:\\n    print(\"Variable not defined.\")', 'print(globals())'], '_oh': {}, '_dh': [WindowsPath('e:/arrays')], 'In': ['', '# name = \"manoj\"\\nif \\'name\\' in locals() or \\'name\\' in globals():\\n    print(\"Variable is already defined.\")\\nelse:\\n    print(\"Variable is NOT defined.\")', '# listX = [1, 2, 3]\\n\\n# Check again\\ntry:\\n    listX\\nexcept NameError:\\n    print(\"listX is not defined yet\")\\nelse:\\n    print(\"listX already exists\")', 'pritn(vars())', 'print(vars())', '# age = 42\\nif \\'age\\' in vars():\\n    print(\"Variable age is already defined.\")\\nelse:\\n    print(\"Variable not defined.\")', 'print(globals())'], 'Out': {}, 'get_ipython': <bound method InteractiveShell.get_ipython of <ipykernel.zmqshell.ZMQInteractiveShell object at 0x00000261A4A39D30>>, 'exit': <IPython.core.autocall.ZMQExitAutocall object at 0x00000261A520DEB0>, 'quit': <IPython.core.autocall.ZMQExitAutocall object at 0x00000261A520DEB0>, 'open': <function open at 0x00000261A3F32FC0>, '_': '', '__': '', '___': '', '__vsc_ipynb_file__': 'e:\\\\arrays\\\\variables.ipynb', '_i': '# age = 42\\nif \\'age\\' in vars():\\n    print(\"Variable age is already defined.\")\\nelse:\\n    print(\"Variable not defined.\")', '_ii': 'print(vars())', '_iii': 'pritn(vars())', '_i1': '# name = \"manoj\"\\nif \\'name\\' in locals() or \\'name\\' in globals():\\n    print(\"Variable is already defined.\")\\nelse:\\n    print(\"Variable is NOT defined.\")', '_i2': '# listX = [1, 2, 3]\\n\\n# Check again\\ntry:\\n    listX\\nexcept NameError:\\n    print(\"listX is not defined yet\")\\nelse:\\n    print(\"listX already exists\")', '_i3': 'pritn(vars())', '_i4': 'print(vars())', '_i5': '# age = 42\\nif \\'age\\' in vars():\\n    print(\"Variable age is already defined.\")\\nelse:\\n    print(\"Variable not defined.\")', '_i6': 'print(globals())'}\n"
     ]
    }
   ],
   "source": [
    "print(globals())"
   ]
  },
  {
   "cell_type": "code",
   "execution_count": 4,
   "id": "2c444d80",
   "metadata": {},
   "outputs": [
    {
     "name": "stdout",
     "output_type": "stream",
     "text": [
      "{'__name__': '__main__', '__doc__': 'Automatically created module for IPython interactive environment', '__package__': None, '__loader__': None, '__spec__': None, '__builtin__': <module 'builtins' (built-in)>, '__builtins__': <module 'builtins' (built-in)>, '_ih': ['', '# name = \"manoj\"\\nif \\'name\\' in locals() or \\'name\\' in globals():\\n    print(\"Variable is already defined.\")\\nelse:\\n    print(\"Variable is NOT defined.\")', '# listX = [1, 2, 3]\\n\\n# Check again\\ntry:\\n    listX\\nexcept NameError:\\n    print(\"listX is not defined yet\")\\nelse:\\n    print(\"listX already exists\")', 'pritn(vars())', 'print(vars())'], '_oh': {}, '_dh': [WindowsPath('e:/arrays')], 'In': ['', '# name = \"manoj\"\\nif \\'name\\' in locals() or \\'name\\' in globals():\\n    print(\"Variable is already defined.\")\\nelse:\\n    print(\"Variable is NOT defined.\")', '# listX = [1, 2, 3]\\n\\n# Check again\\ntry:\\n    listX\\nexcept NameError:\\n    print(\"listX is not defined yet\")\\nelse:\\n    print(\"listX already exists\")', 'pritn(vars())', 'print(vars())'], 'Out': {}, 'get_ipython': <bound method InteractiveShell.get_ipython of <ipykernel.zmqshell.ZMQInteractiveShell object at 0x00000261A4A39D30>>, 'exit': <IPython.core.autocall.ZMQExitAutocall object at 0x00000261A520DEB0>, 'quit': <IPython.core.autocall.ZMQExitAutocall object at 0x00000261A520DEB0>, 'open': <function open at 0x00000261A3F32FC0>, '_': '', '__': '', '___': '', '__vsc_ipynb_file__': 'e:\\\\arrays\\\\variables.ipynb', '_i': 'pritn(vars())', '_ii': '# listX = [1, 2, 3]\\n\\n# Check again\\ntry:\\n    listX\\nexcept NameError:\\n    print(\"listX is not defined yet\")\\nelse:\\n    print(\"listX already exists\")', '_iii': '# name = \"manoj\"\\nif \\'name\\' in locals() or \\'name\\' in globals():\\n    print(\"Variable is already defined.\")\\nelse:\\n    print(\"Variable is NOT defined.\")', '_i1': '# name = \"manoj\"\\nif \\'name\\' in locals() or \\'name\\' in globals():\\n    print(\"Variable is already defined.\")\\nelse:\\n    print(\"Variable is NOT defined.\")', '_i2': '# listX = [1, 2, 3]\\n\\n# Check again\\ntry:\\n    listX\\nexcept NameError:\\n    print(\"listX is not defined yet\")\\nelse:\\n    print(\"listX already exists\")', '_i3': 'pritn(vars())', '_i4': 'print(vars())'}\n"
     ]
    }
   ],
   "source": [
    "print(vars())"
   ]
  },
  {
   "cell_type": "code",
   "execution_count": 8,
   "id": "299f5b38",
   "metadata": {},
   "outputs": [
    {
     "name": "stdout",
     "output_type": "stream",
     "text": [
      "<built-in function globals>\n",
      "<built-in function locals>\n",
      "<built-in function vars>\n"
     ]
    }
   ],
   "source": [
    "x = globals\n",
    "y = locals\n",
    "z = vars\n",
    "\n",
    "print(globals)\n",
    "print(locals)\n",
    "print(vars)"
   ]
  },
  {
   "cell_type": "code",
   "execution_count": 9,
   "id": "292ae785",
   "metadata": {},
   "outputs": [
    {
     "name": "stdout",
     "output_type": "stream",
     "text": [
      "Variable is NOT defined.\n"
     ]
    }
   ],
   "source": [
    "# name = \"manoj\"\n",
    "if 'name' in locals() or 'name' in globals():\n",
    "    print(\"Variable is already defined.\")\n",
    "else:\n",
    "    print(\"Variable is NOT defined.\")"
   ]
  },
  {
   "cell_type": "code",
   "execution_count": 10,
   "id": "5ca7d575",
   "metadata": {},
   "outputs": [
    {
     "name": "stdout",
     "output_type": "stream",
     "text": [
      "Variable not defined.\n"
     ]
    }
   ],
   "source": [
    "# age = 42\n",
    "if 'age' in vars():\n",
    "    print(\"Variable age is already defined.\")\n",
    "else:\n",
    "    print(\"Variable not defined.\")"
   ]
  },
  {
   "cell_type": "code",
   "execution_count": 11,
   "id": "8745fa4c",
   "metadata": {},
   "outputs": [
    {
     "name": "stdout",
     "output_type": "stream",
     "text": [
      "listX is not defined yet\n"
     ]
    }
   ],
   "source": [
    "# listX = [1, 2, 3]\n",
    "\n",
    "# Check again\n",
    "try:\n",
    "    listX\n",
    "except NameError:\n",
    "    print(\"listX is not defined yet\")\n",
    "else:\n",
    "    print(\"listX already exists\")"
   ]
  },
  {
   "cell_type": "code",
   "execution_count": 21,
   "id": "36fe2a6b",
   "metadata": {},
   "outputs": [
    {
     "name": "stdout",
     "output_type": "stream",
     "text": [
      "Address: kathmandu\n",
      "\n",
      "Variable destroyed!\n"
     ]
    }
   ],
   "source": [
    "address = \"kathmandu\"\n",
    "print(f\"Address: {address}\")\n",
    "\n",
    "del address; print(\"\\nVariable destroyed!\") # delets the variable\n",
    "# print(f\"Address: {address}\")  # NameError: name 'address' is not defined"
   ]
  }
 ],
 "metadata": {
  "kernelspec": {
   "display_name": "Python 3",
   "language": "python",
   "name": "python3"
  },
  "language_info": {
   "codemirror_mode": {
    "name": "ipython",
    "version": 3
   },
   "file_extension": ".py",
   "mimetype": "text/x-python",
   "name": "python",
   "nbconvert_exporter": "python",
   "pygments_lexer": "ipython3",
   "version": "3.12.6"
  }
 },
 "nbformat": 4,
 "nbformat_minor": 5
}

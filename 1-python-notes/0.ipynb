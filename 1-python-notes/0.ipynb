{
 "cells": [
  {
   "cell_type": "code",
   "execution_count": 8,
   "id": "60e49d74",
   "metadata": {},
   "outputs": [
    {
     "name": "stdout",
     "output_type": "stream",
     "text": [
      "tupleA (before change): (10, 20, 5, 8)\n",
      "\n",
      "tupleA (after change): (10, 20, 5, 8, 10, 5, 7, 45)\n",
      "type(tupleA): <class 'tuple'>\n"
     ]
    }
   ],
   "source": [
    "if 'tupleX' in globals():\n",
    "    del tupleX\n",
    "\n",
    "if 'listX' in globals():\n",
    "    del listX\n",
    "\n",
    "tupleA = (10, 20, 5, 8)\n",
    "print(f\"tupleA (before change): {tupleA}\")\n",
    "\n",
    "listA = list(tupleA)\n",
    "listA.extend([10, 5, 7, 45])  # listA.appen(15)\n",
    "tupleA = tuple(listA)\n",
    "print(f\"\\ntupleA (after change): {tupleA}\")\n",
    "print(f\"type(tupleA): {type(tupleA)}\")"
   ]
  },
  {
   "cell_type": "code",
   "execution_count": 5,
   "id": "40a2b2a2",
   "metadata": {},
   "outputs": [
    {
     "name": "stdout",
     "output_type": "stream",
     "text": [
      "[1, 2, 3]\n"
     ]
    }
   ],
   "source": [
    "tupleX = (1, 2, 3)\n",
    "listX = list(tupleX)\n",
    "print(listX)"
   ]
  },
  {
   "cell_type": "code",
   "execution_count": 6,
   "id": "c254d02c",
   "metadata": {},
   "outputs": [],
   "source": [
    "xx = 10\n",
    "yy = 20"
   ]
  },
  {
   "cell_type": "code",
   "execution_count": 7,
   "id": "ec94b79d",
   "metadata": {},
   "outputs": [
    {
     "name": "stdout",
     "output_type": "stream",
     "text": [
      "tupleX(before change): ('kathmandu', 'surkhet', 'hetauda')\n",
      "\n",
      "tupleX(after change): ('kathmandu', 'baglung', 'hetauda', 'palpa')\n",
      "type(tupleX): <class 'list'>\n"
     ]
    }
   ],
   "source": [
    "# if 'xx' in globals():\n",
    "#     del xx\n",
    "\n",
    "# if 'yy' in globals():\n",
    "#     del yy\n",
    "\n",
    "# Though tuple can't be changed directly, there is a workaround.\n",
    "# That's -- convert the tuple into a list, change the list, and convert the list back into a tuple.\n",
    "xx = ('kathmandu', 'surkhet', 'hetauda')\n",
    "print(f\"tupleX(before change): {xx}\")\n",
    "\n",
    "# Convert to list\n",
    "yy = list(xx)\n",
    "\n",
    "# Modify the list\n",
    "yy.append('palpa')\n",
    "yy[1] = 'baglung'\n",
    "\n",
    "# Convert back to tuple\n",
    "xx = tuple(yy)\n",
    "print(f\"\\ntupleX(after change): {xx}\")\n",
    "print(f\"type(tupleX): {type(yy)}\")"
   ]
  }
 ],
 "metadata": {
  "kernelspec": {
   "display_name": "Python 3",
   "language": "python",
   "name": "python3"
  },
  "language_info": {
   "codemirror_mode": {
    "name": "ipython",
    "version": 3
   },
   "file_extension": ".py",
   "mimetype": "text/x-python",
   "name": "python",
   "nbconvert_exporter": "python",
   "pygments_lexer": "ipython3",
   "version": "3.12.6"
  }
 },
 "nbformat": 4,
 "nbformat_minor": 5
}

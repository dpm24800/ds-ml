{
 "cells": [
  {
   "cell_type": "markdown",
   "id": "69b8175c",
   "metadata": {},
   "source": [
    "# Python List"
   ]
  },
  {
   "cell_type": "markdown",
   "id": "f6d7ac0a",
   "metadata": {},
   "source": [
    "## Creating a list"
   ]
  },
  {
   "cell_type": "code",
   "execution_count": 168,
   "id": "16eab601",
   "metadata": {},
   "outputs": [
    {
     "name": "stdout",
     "output_type": "stream",
     "text": [
      "list: []\n"
     ]
    }
   ],
   "source": [
    "list = []  # empty list\n",
    "\n",
    "print(f\"list: {list}\")"
   ]
  },
  {
   "cell_type": "code",
   "execution_count": 169,
   "id": "4bdf90c8",
   "metadata": {},
   "outputs": [
    {
     "name": "stdout",
     "output_type": "stream",
     "text": [
      "list: [1, 2, 3, 4, 5, 6]\n"
     ]
    }
   ],
   "source": [
    "list = [1, 2, 3, 4, 5, 6] # list of integer items\n",
    "\n",
    "print(f\"list: {list}\")"
   ]
  },
  {
   "cell_type": "code",
   "execution_count": 170,
   "id": "748ac02a",
   "metadata": {},
   "outputs": [
    {
     "name": "stdout",
     "output_type": "stream",
     "text": [
      "list: [1, 20, 30.56, 434.45, 'Ram', 'Basnet']\n"
     ]
    }
   ],
   "source": [
    "list = [1, 20, 30.56, 434.45, \"Ram\", \"Basnet\"] # list of mixed items: integer, float, string items\n",
    "\n",
    "print(f\"list: {list}\")"
   ]
  },
  {
   "cell_type": "code",
   "execution_count": 171,
   "id": "0e0e9810",
   "metadata": {},
   "outputs": [
    {
     "name": "stdout",
     "output_type": "stream",
     "text": [
      "list: [10, 78.45, 'Manoj', [1, 20], [30.56, 434.45], ['Ram', 'Basnet']]\n"
     ]
    }
   ],
   "source": [
    "# list of mixed items: integer, float, string and list (of: integer, float and string) items\n",
    "list = [10, 78.45, \"Manoj\", [1, 20], [30.56, 434.45], [\"Ram\", \"Basnet\"]] \n",
    "\n",
    "print(f\"list: {list}\")"
   ]
  },
  {
   "cell_type": "markdown",
   "id": "7503a8f3",
   "metadata": {},
   "source": [
    "## Indexing/accessing list items"
   ]
  },
  {
   "cell_type": "code",
   "execution_count": 172,
   "id": "04ea20d7",
   "metadata": {},
   "outputs": [
    {
     "name": "stdout",
     "output_type": "stream",
     "text": [
      "Individual items: \n",
      "1\n",
      "30.56\n",
      "\n",
      "All items:\n",
      "list[0]: 1\n",
      "list[1]: 20\n",
      "list[2]: 30.56\n",
      "list[3]: 434.45\n",
      "list[4]: Ramesh\n",
      "list[5]: Basnet\n"
     ]
    }
   ],
   "source": [
    "list = [1, 20, 30.56, 434.45, \"Ramesh\", \"Basnet\"]\n",
    "\n",
    "print(\"Individual items: \")\n",
    "print(list[0])\n",
    "print(list[2])\n",
    "print(\"\\nAll items:\")\n",
    "\n",
    "for i, j in enumerate(list):\n",
    "    print(f\"list[{i}]: {j}\")"
   ]
  },
  {
   "cell_type": "code",
   "execution_count": 125,
   "id": "522af75d",
   "metadata": {},
   "outputs": [
    {
     "name": "stdout",
     "output_type": "stream",
     "text": [
      "list[4]: Ramesh\n",
      "list[4][0]: R\n",
      "list[4][1]: a\n",
      "list[4][2]: m\n",
      "list[4][3]: e\n",
      "list[4][4]: s\n",
      "list[4][5]: h\n",
      "\n",
      "list[5]: Basnet\n",
      "list[5][0]: B\n",
      "list[5][1]: a\n",
      "list[5][2]: s\n",
      "list[5][3]: n\n",
      "list[5][4]: e\n",
      "list[5][5]: t\n"
     ]
    }
   ],
   "source": [
    "list = [1, 20, 30.56, 434.45, \"Ramesh\", \"Basnet\"]\n",
    "\n",
    "print(f\"list[4]: {list[4]}\")\n",
    "for x, y in enumerate(list[4]):\n",
    "    print(f\"list[4][{x}]: {y}\")\n",
    "\n",
    "print()\n",
    "print(f\"list[5]: {list[5]}\")\n",
    "for m, n in enumerate(list[5]):\n",
    "    print(f\"list[5][{m}]: {n}\")"
   ]
  },
  {
   "cell_type": "code",
   "execution_count": 126,
   "id": "1996705a",
   "metadata": {},
   "outputs": [
    {
     "name": "stdout",
     "output_type": "stream",
     "text": [
      "list[0]: 10)\n",
      "list[1]: 78.45)\n",
      "list[2]: Manoj)\n",
      "list[3]: [1, 20])\n",
      "list[4]: [30.56, 434.45])\n",
      "list[5]: ['Ram', 'Basnet'])\n"
     ]
    }
   ],
   "source": [
    "list = [10, 78.45, \"Manoj\", [1, 20], [30.56, 434.45], [\"Ram\", \"Basnet\"]] \n",
    "\n",
    "for i, j in enumerate(list):\n",
    "    # print(i,j)\n",
    "    print(f\"list[{i}]: {j})\")\n",
    "          "
   ]
  },
  {
   "cell_type": "code",
   "execution_count": 127,
   "id": "0c6b0eca",
   "metadata": {},
   "outputs": [
    {
     "name": "stdout",
     "output_type": "stream",
     "text": [
      "list[2]: Manoj\n",
      "list[2][0]: M)\n",
      "list[2][1]: a)\n",
      "list[2][2]: n)\n",
      "list[2][3]: o)\n",
      "list[2][4]: j)\n",
      "\n",
      "list[3]: [1, 20]\n",
      "list[3][0]: 1)\n",
      "list[3][1]: 20)\n",
      "\n",
      "list[4]: [30.56, 43.45, 63.15]\n",
      "list[4][0]: 30.56)\n",
      "list[4][1]: 43.45)\n",
      "list[4][2]: 63.15)\n",
      "\n",
      "list[5]: ['Ram', 'Basnet', 'Kathmandu']\n",
      "list[5][0]: Ram)\n",
      "list[5][1]: Basnet)\n",
      "list[5][2]: Kathmandu)\n"
     ]
    }
   ],
   "source": [
    "list = [10, 78.45, \"Manoj\", [1, 20], [30.56, 43.45, 63.15 ], [\"Ram\", \"Basnet\", \"Kathmandu\"]] \n",
    "\n",
    "print(f\"list[2]: {list[2]}\")\n",
    "for a, b in enumerate(list[2]):\n",
    "    # print(i,j)\n",
    "    print(f\"list[2][{a}]: {b})\")\n",
    "\n",
    "print()\n",
    "print(f\"list[3]: {list[3]}\")\n",
    "for c, d in enumerate(list[3]):\n",
    "    print(f\"list[3][{c}]: {d})\")\n",
    "\n",
    "print()\n",
    "print(f\"list[4]: {list[4]}\")\n",
    "for e, f in enumerate(list[4]):\n",
    "    print(f\"list[4][{e}]: {f})\")\n",
    "\n",
    "print()\n",
    "print(f\"list[5]: {list[5]}\")\n",
    "for g, h in enumerate(list[5]):\n",
    "    print(f\"list[5][{g}]: {h})\")\n"
   ]
  },
  {
   "cell_type": "markdown",
   "id": "31068468",
   "metadata": {},
   "source": [
    "#### Negative Indexing"
   ]
  },
  {
   "cell_type": "code",
   "execution_count": null,
   "id": "fb63f430",
   "metadata": {},
   "outputs": [
    {
     "name": "stdout",
     "output_type": "stream",
     "text": [
      "6\n",
      "5\n",
      "4\n",
      "3\n",
      "2\n",
      "1\n",
      "0\n",
      "47\n",
      "14\n"
     ]
    }
   ],
   "source": [
    "listA = [14, 45, 78.12, \"Kathmandu\", 47, 32]\n",
    "x = len(listA)\n",
    "\n",
    "# for i in range (x, -1, -1):\n",
    "for i in list (x, -1, -1):\n",
    "    print(i)\n",
    "\n",
    "print(listA[-2])\n",
    "print(listA[-6])"
   ]
  },
  {
   "cell_type": "code",
   "execution_count": 151,
   "id": "2c556f43",
   "metadata": {},
   "outputs": [
    {
     "name": "stdout",
     "output_type": "stream",
     "text": [
      "20, 19, 18, 17, 16, 15, 14, 13, 12, 11, 10, 9, 8, 7, 6, 5, 4, 3, 2, 1, "
     ]
    }
   ],
   "source": [
    "for i in range(20, 0, -1):\n",
    "    print(i, end = \", \")\n"
   ]
  },
  {
   "cell_type": "markdown",
   "id": "0ad2c656",
   "metadata": {},
   "source": [
    "## Slicing a list"
   ]
  },
  {
   "cell_type": "code",
   "execution_count": null,
   "id": "eff34177",
   "metadata": {},
   "outputs": [],
   "source": []
  },
  {
   "cell_type": "markdown",
   "id": "741a16c0",
   "metadata": {},
   "source": [
    "## Functions related to list"
   ]
  },
  {
   "cell_type": "markdown",
   "id": "e24de944",
   "metadata": {},
   "source": [
    "### len(list)"
   ]
  },
  {
   "cell_type": "code",
   "execution_count": 128,
   "id": "d139228a",
   "metadata": {},
   "outputs": [
    {
     "name": "stdout",
     "output_type": "stream",
     "text": [
      "list length: 6\n",
      "list[2] length: 5\n",
      "list[3] length: 2\n",
      "list[4] length: 3\n",
      "list[5] length: 3\n"
     ]
    }
   ],
   "source": [
    "list = [10, 78.45, \"Manoj\", [1, 20], [30.56, 43.45, 63.15 ], [\"Ram\", \"Basnet\", \"Kathmandu\"]] \n",
    "\n",
    "print(f\"list length: {len(list)}\")\n",
    "print(f\"list[2] length: {len(list[2])}\")\n",
    "print(f\"list[3] length: {len(list[3])}\")\n",
    "print(f\"list[4] length: {len(list[4])}\")\n",
    "print(f\"list[5] length: {len(list[5])}\")"
   ]
  },
  {
   "cell_type": "markdown",
   "id": "fcd42bc9",
   "metadata": {},
   "source": [
    "## Common List Methods"
   ]
  },
  {
   "cell_type": "markdown",
   "id": "ad0a667f",
   "metadata": {},
   "source": []
  },
  {
   "cell_type": "markdown",
   "id": "383f5f4d",
   "metadata": {},
   "source": [
    "### list.append() ✅\n",
    "- **no. of argument**: (only) 1\n",
    "- **data type of argument**: any data types\n",
    "- **function**: adds an item to the list.\n"
   ]
  },
  {
   "cell_type": "code",
   "execution_count": 129,
   "id": "46fdde02",
   "metadata": {},
   "outputs": [
    {
     "name": "stdout",
     "output_type": "stream",
     "text": [
      "List: [] before append.\n",
      "List: [5, 5.9, 'Kathmandu', [99, 56]] after append.\n"
     ]
    }
   ],
   "source": [
    "list = []\n",
    "\n",
    "print(f\"List: {list} before append.\")\n",
    "\n",
    "list.append(5) # appends a int number\n",
    "list.append(5.9)  # appends a float number\n",
    "list.append(\"Kathmandu\") # appends a string\n",
    "list.append([99, 56])  # appends a list\n",
    "\n",
    "# append() takes only one argument, so it will throw TypeError\n",
    "# list.append(10, 10.56)\n",
    "# list.append([\"dipak\", \"pulami\"], 30)\n",
    "# list.append(5, 2, \"manoj\")\n",
    "\n",
    "print(f\"List: {list} after append.\")"
   ]
  },
  {
   "cell_type": "markdown",
   "id": "9decb36b",
   "metadata": {},
   "source": [
    "### list.extend() ✅\n",
    "- **no. of argument**: (only) 1\n",
    "- **data type of argument**: any iterable (str, list, ...), but not: int, float\n",
    "- **function**: adds every index of an iterable as an single items to the list."
   ]
  },
  {
   "cell_type": "code",
   "execution_count": 130,
   "id": "f75d02ea",
   "metadata": {},
   "outputs": [
    {
     "name": "stdout",
     "output_type": "stream",
     "text": [
      "Original list: \n",
      "[10, 15.5, 'Surkhet']\n",
      "\n",
      "Extended list: \n",
      "[10, 15.5, 'Surkhet', 'i', 't', 'e', 'm', 's', 20, 5, 10.6, 'Dipak']\n",
      "\n"
     ]
    }
   ],
   "source": [
    "list = [10, 15.5, \"Surkhet\"]\n",
    "print(f\"Original list: \\n{list}\\n\")\n",
    "\n",
    "# list.extend(10) # TypeError: as extend takes iterable\n",
    "# list.extend(50.69) # TypeError: as extend takes iterable\n",
    "list.extend(\"items\")\n",
    "list.extend([20, 5, 10.6, \"Dipak\"])\n",
    "\n",
    "# extend() doesn't take multiple arguments\n",
    "# list.extend(10, 30.56) \n",
    "# list.extend(\"dipak\", 30)\n",
    "# list.extend([4, 10.6, \"ram\"], [\"basnet\", 30, 5.6])\n",
    "\n",
    "print(f\"Extended list: \\n{list}\\n\")\n",
    "# print(list[11][2])"
   ]
  },
  {
   "cell_type": "markdown",
   "id": "3466f71f",
   "metadata": {},
   "source": [
    "### list.insert() ✅\n",
    "- **function**: inserts an item at the specified index/here insertes\n",
    "- **argument**: takes 2 argument, \n",
    "  - **first**: index in which you want to insert\n",
    "  - **second**: value to be inserted"
   ]
  },
  {
   "cell_type": "code",
   "execution_count": 131,
   "id": "13b2318f",
   "metadata": {},
   "outputs": [
    {
     "name": "stdout",
     "output_type": "stream",
     "text": [
      "Original list: \n",
      "[10, 63.15, 'Kathmandu', [15, 'Manoj', 450.45]]\n",
      "\n",
      "List after insertion at index 2: \n",
      "[10, 63.15, ['Maya', 478.12, 1540], 'Kathmandu', [15, 'Manoj', 450.45]]\n",
      "\n"
     ]
    }
   ],
   "source": [
    "list = [10, 63.15, \"Kathmandu\", [15, \"Manoj\", 450.45]]\n",
    "print(f\"Original list: \\n{list}\\n\")\n",
    "\n",
    "list.insert(2, [\"Maya\", 478.12, 1540])\n",
    "print(f\"List after insertion at index 2: \\n{list}\\n\")\n"
   ]
  },
  {
   "cell_type": "markdown",
   "id": "9ed8efe2",
   "metadata": {},
   "source": [
    "### list.copy() ✅\n",
    "- **function**: copies a list to another list\n",
    "- **argument**: list.copy() takes no arguments"
   ]
  },
  {
   "cell_type": "code",
   "execution_count": 142,
   "id": "d950c27e",
   "metadata": {},
   "outputs": [
    {
     "name": "stdout",
     "output_type": "stream",
     "text": [
      "list X = listA.copy(): ['a', 'e', 'i', 'o', 'u']\n",
      "list Y = listB: [12, 15, 17, 20, 25]\n",
      "list Z = listC[:]: [45, 7, 8, 10, 89]\n"
     ]
    }
   ],
   "source": [
    "listA = ['a', 'e', 'i', 'o', 'u']\n",
    "listB = [12, 15, 17, 20, 25]\n",
    "listC = [45, 7, 8, 10, 89]\n",
    "\n",
    "# listX = listA.copy() OR  listX = listA OR listX = listA[:]\n",
    "listX = listA.copy() \n",
    "listY = listB\n",
    "listZ = listC[:]\n",
    "\n",
    "print(f\"list X = listA.copy(): {listX}\")\n",
    "print(f\"list Y = listB: {listY}\")\n",
    "print(f\"list Z = listC[:]: {listZ}\")"
   ]
  },
  {
   "cell_type": "markdown",
   "id": "5da367cc",
   "metadata": {},
   "source": [
    "### Joining lists ✅\n",
    "- list can be joined or concatinated with plus/addition operator"
   ]
  },
  {
   "cell_type": "code",
   "execution_count": 133,
   "id": "35b32da9",
   "metadata": {},
   "outputs": [
    {
     "name": "stdout",
     "output_type": "stream",
     "text": [
      "listA: ['a', 'e', 'i', 'o', 'u']\n",
      "listB: [1, 5, 9, 15, 21]\n",
      "listC = listA + listB: ['a', 'e', 'i', 'o', 'u', 1, 5, 9, 15, 21]\n"
     ]
    }
   ],
   "source": [
    "listA = ['a', 'e', 'i', 'o', 'u']\n",
    "listB = [1, 5, 9, 15, 21]\n",
    "\n",
    "listC = listA + listB\n",
    "\n",
    "print(f\"listA: {listA}\")\n",
    "print(f\"listB: {listB}\")\n",
    "print(f\"listC = listA + listB: {listC}\")"
   ]
  },
  {
   "cell_type": "markdown",
   "id": "4981203e",
   "metadata": {},
   "source": [
    "### Checking if item exists in the list"
   ]
  },
  {
   "cell_type": "code",
   "execution_count": 164,
   "id": "51012f86",
   "metadata": {},
   "outputs": [
    {
     "name": "stdout",
     "output_type": "stream",
     "text": [
      "Yes, 'Pokhara' is in the list.\n",
      "No, 'Dhankuta' isn't in the list.\n"
     ]
    }
   ],
   "source": [
    "# check if \"apple\" is present in the list\n",
    "list = [\"Kathmandu\", \"Pokhara\", \"Butwal\", \"Ilam\"]\n",
    "\n",
    "if \"Pokhara\" in list:\n",
    "  print(\"Yes, 'Pokhara' is in the list.\")\n",
    "\n",
    "if \"Dhankuta\" in list:\n",
    "  print(\"Yes, 'Dhankuta' is in the list.\")\n",
    "else:\n",
    "  print(\"No, 'Dhankuta' isn't in the list.\")"
   ]
  },
  {
   "cell_type": "markdown",
   "id": "01c3a0c3",
   "metadata": {},
   "source": [
    "### list.pop() ✅\n",
    "- **function**: removes the element at the specified position\n",
    "- **argument**: index to remove from the list"
   ]
  },
  {
   "cell_type": "code",
   "execution_count": 134,
   "id": "32bf6e1c",
   "metadata": {},
   "outputs": [
    {
     "name": "stdout",
     "output_type": "stream",
     "text": [
      "List before pop: \n",
      "[10, 78.45, 'Manoj', [1, 20], [30.56, 43.45, 63.15], ['Ram', 'Basnet', 'Kathmandu']]\n",
      "\n",
      "List after pop: \n",
      "[78.45, 'Manoj', [1, 20], [30.56, 43.45, 63.15]]\n",
      "\n",
      "List after pop(#unspecified): \n",
      "[78.45, 'Manoj', [1, 20]]\n"
     ]
    }
   ],
   "source": [
    "list = [10, 78.45, \"Manoj\", [1, 20], [ 30.56, 43.45, 63.15], [\"Ram\", \"Basnet\", \"Kathmandu\"]]\n",
    "\n",
    "print(f\"List before pop: \\n{list}\")\n",
    "list.pop(0)\n",
    "list.pop(4)\n",
    "\n",
    "print(f\"\\nList after pop: \\n{list}\")\n",
    "\n",
    "list.pop()\n",
    "print(f\"\\nList after pop(#unspecified): \\n{list}\")"
   ]
  },
  {
   "cell_type": "markdown",
   "id": "ff93ad24",
   "metadata": {},
   "source": [
    "### list.remove() ✅\n",
    "- **function**: removes the value specified from the list\n",
    "- **argument**: value to be removed from the list."
   ]
  },
  {
   "cell_type": "code",
   "execution_count": 135,
   "id": "5663f9a7",
   "metadata": {},
   "outputs": [
    {
     "name": "stdout",
     "output_type": "stream",
     "text": [
      "List before remove: \n",
      "[10, 78.45, 'Manoj', [1, 20], [30.56, 43.45, 63.15], ['Ram', 'Basnet', 'Kathmandu']]\n",
      "\n",
      "List after remove: \n",
      "[78.45, 'Manoj', [30.56, 43.45, 63.15], ['Ram', 'Basnet', 'Kathmandu']]\n"
     ]
    }
   ],
   "source": [
    "list = [10, 78.45, \"Manoj\", [1, 20], [ 30.56, 43.45, 63.15], [\"Ram\", \"Basnet\", \"Kathmandu\"]]\n",
    "\n",
    "print(f\"List before remove: \\n{list}\")\n",
    "list.remove(10)\n",
    "list.remove([1, 20])\n",
    "\n",
    "print(f\"\\nList after remove: \\n{list}\")"
   ]
  },
  {
   "cell_type": "markdown",
   "id": "92c4b933",
   "metadata": {},
   "source": [
    "### list.clear() ✅\n",
    "- **function**: removes all the elements from the list"
   ]
  },
  {
   "cell_type": "code",
   "execution_count": 136,
   "id": "867926d5",
   "metadata": {},
   "outputs": [
    {
     "name": "stdout",
     "output_type": "stream",
     "text": [
      "List items:  [10, 78.45, 'Manoj', [1, 20], [30.56, 43.45, 63.15], ['Ram', 'Basnet', 'Kathmandu']]\n",
      "\n",
      "List cleared.\n",
      "\n",
      "List items:  []\n"
     ]
    }
   ],
   "source": [
    "list = [10, 78.45, \"Manoj\", [1, 20], [30.56, 43.45, 63.15 ], [\"Ram\", \"Basnet\", \"Kathmandu\"]] \n",
    "\n",
    "print(\"List items: \", list)\n",
    "\n",
    "list.clear(); print(\"\\nList cleared.\\n\")\n",
    "\n",
    "print(\"List items: \", list)"
   ]
  },
  {
   "cell_type": "markdown",
   "id": "2cc8b320",
   "metadata": {},
   "source": [
    "del list/list[index]"
   ]
  },
  {
   "cell_type": "code",
   "execution_count": 137,
   "id": "0891dc4c",
   "metadata": {},
   "outputs": [
    {
     "name": "stdout",
     "output_type": "stream",
     "text": [
      "Original List: [10, 12.5, 45, 'Surkhet', ['Balkhu', 21]]\n",
      "\n",
      "list[1] deleted.\n",
      "List: [10, 45, 'Surkhet', ['Balkhu', 21]]\n",
      "\n",
      "list deleted.\n",
      "\n"
     ]
    }
   ],
   "source": [
    "listX = [10, 12.5, 45, \"Surkhet\", [\"Balkhu\", 21]]\n",
    "print(f\"Original List: {listX}\")\n",
    "\n",
    "del listX[1]; print(\"\\nlist[1] deleted.\")\n",
    "print(f\"List: {listX}\")\n",
    "\n",
    "del listX; print(\"\\nlist deleted.\\n\")\n",
    "# print(\"List: \", listX)  # NameError: name 'listX' is not defined"
   ]
  },
  {
   "cell_type": "markdown",
   "id": "49fb796d",
   "metadata": {},
   "source": [
    "### list.count() ✅\n",
    "- **function**: counts the number of given item in the list\n",
    "- **argument**: value to count"
   ]
  },
  {
   "cell_type": "code",
   "execution_count": 138,
   "id": "997ee49e",
   "metadata": {},
   "outputs": [
    {
     "name": "stdout",
     "output_type": "stream",
     "text": [
      "3 is repeated in the list: 0 times\n",
      "2 is repeated in the list: 3 times\n",
      "5 is repeated in the list: 2 times\n",
      "10 is repeated in the list: 1 times\n"
     ]
    }
   ],
   "source": [
    "list = [1, 2,  5, 7, 8, 4, 5, 2, 10, 45, 2] \n",
    "\n",
    "print(f\"3 is repeated in the list: {list.count(3)} times\") # 0: as it is not in the list\n",
    "print(f\"2 is repeated in the list: {list.count(2)} times\") # 0: as it is not in the list\n",
    "print(f\"5 is repeated in the list: {list.count(5)} times\") # 0: as it is not in the list\n",
    "print(f\"10 is repeated in the list: {list.count(10)} times\") # 0: as it is not in the list"
   ]
  },
  {
   "cell_type": "markdown",
   "id": "edb131d5",
   "metadata": {},
   "source": [
    "### list.index() ✅\n",
    "- **function**: returns the first index of given value/items in the list.\n",
    "- **argument**: l: data types"
   ]
  },
  {
   "cell_type": "code",
   "execution_count": 139,
   "id": "1bfee789",
   "metadata": {},
   "outputs": [
    {
     "name": "stdout",
     "output_type": "stream",
     "text": [
      "12 has 1st index at: 1 position in the list.\n",
      "15 has 1st index at: 2 position in the list.\n",
      "[10, 5, 2, 'dipak'] has 1st index at: 7 position in the list.\n"
     ]
    }
   ],
   "source": [
    "listB = [8, 12, 15, 17, 20, 25, \"kumar\", [10, 5, 2, \"dipak\"], 12]\n",
    "\n",
    "print(f\"12 has 1st index at: {listB.index(12)} position in the list.\")\n",
    "print(f\"15 has 1st index at: {listB.index(15)} position in the list.\")\n",
    "print(f\"[10, 5, 2, 'dipak'] has 1st index at: {listB.index([10, 5, 2, \"dipak\"])} position in the list.\")"
   ]
  },
  {
   "cell_type": "markdown",
   "id": "a598ba57",
   "metadata": {},
   "source": [
    "### list.sort() ✅\n",
    "- **function**: sorts the list of *same data type* in given order\n",
    "- **argument**: \n",
    "  - *no argument*: in ascending order\n",
    "  - *reverse = True*: in descending order\n",
    "  - *key = str.lower* = performs a case-insensitive sort of the list"
   ]
  },
  {
   "cell_type": "code",
   "execution_count": 166,
   "id": "62179f75",
   "metadata": {},
   "outputs": [
    {
     "name": "stdout",
     "output_type": "stream",
     "text": [
      "[1, 5, 12, 20, 45]\n"
     ]
    }
   ],
   "source": [
    "x = [20, 45, 5, 1, 12]\n",
    "x.sort()\n",
    "print(x)  # print(x.sort()) => None"
   ]
  },
  {
   "cell_type": "code",
   "execution_count": 167,
   "id": "894d36e5",
   "metadata": {},
   "outputs": [
    {
     "name": "stdout",
     "output_type": "stream",
     "text": [
      "Regular/Unsorted listR: [20, 45, 5, 1, 12]\n",
      "Regular/Unsorted listX: ['a', 'z', 'x', 'r', 'b']\n",
      "\n",
      "Sorted listR: [1, 5, 12, 20, 45]\n",
      "Sorted listX: ['a', 'b', 'r', 'x', 'z']\n"
     ]
    }
   ],
   "source": [
    "listR = [20, 45, 5, 1, 12]\n",
    "listX = [\"a\", \"z\", \"x\", \"r\", \"b\"]\n",
    "\n",
    "print(f\"Regular/Unsorted listR: {listR}\")\n",
    "print(f\"Regular/Unsorted listX: {listX}\")\n",
    "\n",
    "listR.sort()\n",
    "listX.sort()\n",
    "print(f\"\\nSorted listR: {listR}\")\n",
    "print(f\"Sorted listX: {listX}\")"
   ]
  },
  {
   "cell_type": "code",
   "execution_count": 156,
   "id": "725c5661",
   "metadata": {},
   "outputs": [
    {
     "name": "stdout",
     "output_type": "stream",
     "text": [
      "Regular/Unsorted listR: [20, 45, 5, 1, 12]\n",
      "Regular/Unsorted listX: ['a', 'z', 'x', 'r', 'b']\n",
      "\n",
      "Sorted listR in reverse order: [45, 20, 12, 5, 1]\n",
      "Sorted listX in reverse order: ['z', 'x', 'r', 'b', 'a']\n"
     ]
    }
   ],
   "source": [
    "listR = [20, 45, 5, 1, 12]\n",
    "listX = [\"a\", \"z\", \"x\", \"r\", \"b\"]\n",
    "\n",
    "print(f\"Regular/Unsorted listR: {listR}\")\n",
    "print(f\"Regular/Unsorted listX: {listX}\")\n",
    "\n",
    "listR.sort(reverse=True)\n",
    "listX.sort(reverse=True)\n",
    "print(f\"\\nSorted listR in reverse order: {listR}\")\n",
    "print(f\"Sorted listX in reverse order: {listX}\")"
   ]
  },
  {
   "cell_type": "markdown",
   "id": "2dd970fc",
   "metadata": {},
   "source": [
    "#### case-insensative sort"
   ]
  },
  {
   "cell_type": "code",
   "execution_count": 160,
   "id": "ff791bbf",
   "metadata": {},
   "outputs": [
    {
     "name": "stdout",
     "output_type": "stream",
     "text": [
      "Regular/unsorted listX: ['a', 'z', 'X', 'r', 'B', 'd', 'M']\n",
      "Regular/unsorted listY: ['a', 'z', 'X', 'r', 'B', 'd', 'M']\n",
      "\n",
      "Case-sensative sort of listX: ['B', 'M', 'X', 'a', 'd', 'r', 'z']\n",
      "Case-sensative sort of listY: ['B', 'M', 'X', 'a', 'd', 'r', 'z']\n",
      "\n",
      "Case-insensative sort of listX: ['a', 'B', 'd', 'M', 'r', 'X', 'z']\n",
      "Case-insensative sort of listY: ['a', 'B', 'd', 'M', 'r', 'X', 'z']\n"
     ]
    }
   ],
   "source": [
    "listX = [\"a\", \"z\", \"X\", \"r\", \"B\", \"d\", \"M\"]\n",
    "listY = [\"a\", \"z\", \"X\", \"r\", \"B\", \"d\", \"M\"]\n",
    "\n",
    "print(f\"Regular/unsorted listX: {listX}\")\n",
    "print(f\"Regular/unsorted listY: {listY}\")\n",
    "\n",
    "listX.sort()\n",
    "listY.sort()\n",
    "\n",
    "print(f\"\\nCase-sensative sort of listX: {listX}\")\n",
    "print(f\"Case-sensative sort of listY: {listY}\")\n",
    "\n",
    "listX.sort(key=str.lower)\n",
    "listY.sort(key=str.lower)\n",
    "\n",
    "print(f\"\\nCase-insensative sort of listX: {listX}\")\n",
    "print(f\"Case-insensative sort of listY: {listY}\")"
   ]
  },
  {
   "cell_type": "markdown",
   "id": "a7438e9b",
   "metadata": {},
   "source": [
    "### list.reverse() ✅\n",
    "- **function**: reverses the list items\n",
    "- **argument**: no argument"
   ]
  },
  {
   "cell_type": "code",
   "execution_count": null,
   "id": "4d8e7c4d",
   "metadata": {},
   "outputs": [
    {
     "name": "stdout",
     "output_type": "stream",
     "text": [
      "listX in regular order/index: [10, 50, 47, 8, 15]\n",
      "listY in regular order/index: ['Dipak', 'Sita', 'Gita', 'Umesh']\n",
      "\n",
      "listX in reversed order: [15, 8, 47, 50, 10]\n",
      "listY in regular order: ['Umesh', 'Gita', 'Sita', 'Dipak']\n"
     ]
    }
   ],
   "source": [
    "listX = [10, 50, 47, 8, 15]\n",
    "listY = [\"Dipak\", \"Sita\", \"Gita\", \"Umesh\"]\n",
    "\n",
    "print(f\"listX in regular order/index: {listX}\")\n",
    "print(f\"listY in regular order/index: {listY}\")\n",
    "\n",
    "listX.reverse()\n",
    "listY.reverse()\n",
    "\n",
    "print(f\"\\nlistX in reversed order: {listX}\")\n",
    "print(f\"listY in regular order: {listY}\")"
   ]
  },
  {
   "cell_type": "code",
   "execution_count": 159,
   "id": "046eb500",
   "metadata": {},
   "outputs": [
    {
     "name": "stdout",
     "output_type": "stream",
     "text": [
      "Regular unreversed listR: [20, 45, 5, 1, 12]\n",
      "Regular unreversed listX: ['a', 'z', 'x', 'r', 'b']\n",
      "\n",
      "Reversed listR: [12, 1, 5, 45, 20]\n",
      "Reversed listX: ['b', 'r', 'x', 'z', 'a']\n"
     ]
    }
   ],
   "source": [
    "listR = [20, 45, 5, 1, 12]\n",
    "listX = [\"a\", \"z\", \"x\", \"r\", \"b\"]\n",
    "\n",
    "print(f\"Regular unreversed listR: {listR}\")\n",
    "print(f\"Regular unreversed listX: {listX}\")\n",
    "\n",
    "listR.reverse()\n",
    "listX.reverse()\n",
    "\n",
    "print(f\"\\nReversed listR: {listR}\")\n",
    "print(f\"Reversed listX: {listX}\")"
   ]
  }
 ],
 "metadata": {
  "kernelspec": {
   "display_name": "Python 3",
   "language": "python",
   "name": "python3"
  },
  "language_info": {
   "codemirror_mode": {
    "name": "ipython",
    "version": 3
   },
   "file_extension": ".py",
   "mimetype": "text/x-python",
   "name": "python",
   "nbconvert_exporter": "python",
   "pygments_lexer": "ipython3",
   "version": "3.12.6"
  }
 },
 "nbformat": 4,
 "nbformat_minor": 5
}

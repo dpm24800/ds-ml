{
 "cells": [
  {
   "cell_type": "markdown",
   "id": "df436afa",
   "metadata": {},
   "source": [
    "# Loops"
   ]
  },
  {
   "cell_type": "markdown",
   "id": "4e79badf",
   "metadata": {},
   "source": [
    "## For Loop"
   ]
  },
  {
   "cell_type": "code",
   "execution_count": 13,
   "id": "feea4b77",
   "metadata": {},
   "outputs": [
    {
     "name": "stdout",
     "output_type": "stream",
     "text": [
      "range(0, 10)\n"
     ]
    }
   ],
   "source": [
    "x = range(10)\n",
    "print(x)"
   ]
  },
  {
   "cell_type": "code",
   "execution_count": 16,
   "id": "c22a675d",
   "metadata": {},
   "outputs": [
    {
     "name": "stdout",
     "output_type": "stream",
     "text": [
      "list[range(1, 20, 2)]\n"
     ]
    }
   ],
   "source": [
    "y = list[range(1, 20, 2)]\n",
    "print(y)"
   ]
  },
  {
   "cell_type": "markdown",
   "id": "381679db",
   "metadata": {},
   "source": [
    "### range()"
   ]
  },
  {
   "cell_type": "code",
   "execution_count": null,
   "id": "553bfe6b",
   "metadata": {},
   "outputs": [
    {
     "name": "stdout",
     "output_type": "stream",
     "text": [
      "0, 1, 2, 3, 4, 5, 6, 7, 8, 9, "
     ]
    }
   ],
   "source": [
    "# If range() function has single argument, \n",
    "# it denotes end-ing value, which is always EXCLUSIVE (n-1). \n",
    "# In such case, \n",
    "    # default start-ing point is: 0\n",
    "    # default step-size is: 1\n",
    "\n",
    "for i in range(10):\n",
    "    print(i, end = \", \")"
   ]
  },
  {
   "cell_type": "code",
   "execution_count": null,
   "id": "07bcbb25",
   "metadata": {},
   "outputs": [
    {
     "name": "stdout",
     "output_type": "stream",
     "text": [
      "1, 2, 3, 4, 5, 6, 7, 8, 9, \n",
      "5, 6, 7, 8, 9, 10, 11, 12, 13, 14, "
     ]
    }
   ],
   "source": [
    "# When range() function has two arguments,\n",
    "    # first works as start-ing value and \n",
    "    # second works as end-ing value, which is always EXCLUSIVE (n-1). \n",
    "# In such case, (default) step size is always: 1,\n",
    "\n",
    "for i in range(1, 10):\n",
    "    print(i, end = \", \")\n",
    "\n",
    "print()\n",
    "for j in range(5, 15):\n",
    "    print(j, end = \", \")\n"
   ]
  },
  {
   "cell_type": "code",
   "execution_count": 24,
   "id": "1a4104a8",
   "metadata": {},
   "outputs": [
    {
     "name": "stdout",
     "output_type": "stream",
     "text": [
      "0, 2, 4, 6, 8, 10, 12, 14, 16, 18, \n",
      "1, 3, 5, 7, 9, 11, 13, 15, 17, 19, "
     ]
    }
   ],
   "source": [
    "# range(start, end(exclusive), step)\n",
    "for i in range(0, 20, 2):\n",
    "    print(i, end = \", \")\n",
    "\n",
    "print()\n",
    "for j in range(1, 20, 2):\n",
    "    print(j, end = \", \")"
   ]
  },
  {
   "cell_type": "markdown",
   "id": "a6d464b4",
   "metadata": {},
   "source": [
    "### Negative For Loop: step -n"
   ]
  },
  {
   "cell_type": "code",
   "execution_count": 38,
   "id": "1f4efe21",
   "metadata": {},
   "outputs": [
    {
     "name": "stdout",
     "output_type": "stream",
     "text": [
      "10, 9, 8, 7, 6, 5, 4, 3, 2, 1, \n",
      "10, 8, 6, 4, 2, "
     ]
    }
   ],
   "source": [
    "for i in range(10, 0, -1):\n",
    "        print(i, end = \", \")\n",
    "\n",
    "print()\n",
    "for j in range(10, 0, -2):\n",
    "        print(j, end = \", \")"
   ]
  },
  {
   "cell_type": "markdown",
   "id": "75758425",
   "metadata": {},
   "source": [
    "## While Loop"
   ]
  },
  {
   "cell_type": "code",
   "execution_count": 48,
   "id": "17623035",
   "metadata": {},
   "outputs": [
    {
     "name": "stdout",
     "output_type": "stream",
     "text": [
      "0, 1, 2, 3, 4, 5, 6, 7, 8, \n",
      "0, 2, 4, 6, 8, 10, 12, 14, \n",
      "1, 3, 5, 7, 9, 11, 13, 15, "
     ]
    }
   ],
   "source": [
    "x = 0\n",
    "while x <= 8:\n",
    "    print(x, end = \", \")\n",
    "    x += 1\n",
    "\n",
    "print()\n",
    "y = 0\n",
    "while y <= 15:\n",
    "    print(y, end = \", \")\n",
    "    y += 2\n",
    "\n",
    "print()\n",
    "z = 1\n",
    "while z <= 15:\n",
    "    print(z, end = \", \")\n",
    "    z += 2"
   ]
  },
  {
   "cell_type": "markdown",
   "id": "840aedf6",
   "metadata": {},
   "source": [
    "### Reverse While Loop"
   ]
  },
  {
   "cell_type": "code",
   "execution_count": 56,
   "id": "62fed87a",
   "metadata": {},
   "outputs": [
    {
     "name": "stdout",
     "output_type": "stream",
     "text": [
      "10, 9, 8, 7, 6, 5, 4, 3, 2, 1, 0\n",
      "18, 16, 14, 12, 10, 8, 6, 4, 2, 0\n",
      "17, 15, 13, 11, 9, 7, 5, 3, 1, "
     ]
    }
   ],
   "source": [
    "x = 10\n",
    "while x >= 0:\n",
    "    print(x, end = \", \" if x > 0 else \"\")\n",
    "    x -= 1\n",
    "\n",
    "print()\n",
    "y = 18\n",
    "while y >= 0:\n",
    "    print(y, end = \", \" if y > 0 else \"\")\n",
    "    y -= 2\n",
    "\n",
    "print()\n",
    "z = 17\n",
    "while z >= 0:\n",
    "    print(z, end = \", \" if z > 0 else \"\")\n",
    "    z -= 2"
   ]
  },
  {
   "cell_type": "markdown",
   "id": "e1769b77",
   "metadata": {},
   "source": [
    "### Nested While Loop"
   ]
  },
  {
   "cell_type": "markdown",
   "id": "9e85e4b5",
   "metadata": {},
   "source": [
    "## Nested Loop"
   ]
  },
  {
   "cell_type": "markdown",
   "id": "95dc2c98",
   "metadata": {},
   "source": [
    "### Nested For Loop"
   ]
  },
  {
   "cell_type": "markdown",
   "id": "2193f3e5",
   "metadata": {},
   "source": [
    "### Nested While Loop"
   ]
  },
  {
   "cell_type": "markdown",
   "id": "fb726dbe",
   "metadata": {},
   "source": [
    "## For/While Else"
   ]
  },
  {
   "cell_type": "markdown",
   "id": "c6c59d05",
   "metadata": {},
   "source": [
    "### For Else"
   ]
  },
  {
   "cell_type": "markdown",
   "id": "5a1ddd13",
   "metadata": {},
   "source": [
    "### While Else"
   ]
  },
  {
   "cell_type": "markdown",
   "id": "a3644460",
   "metadata": {},
   "source": []
  }
 ],
 "metadata": {
  "kernelspec": {
   "display_name": "Python 3",
   "language": "python",
   "name": "python3"
  },
  "language_info": {
   "codemirror_mode": {
    "name": "ipython",
    "version": 3
   },
   "file_extension": ".py",
   "mimetype": "text/x-python",
   "name": "python",
   "nbconvert_exporter": "python",
   "pygments_lexer": "ipython3",
   "version": "3.13.3"
  }
 },
 "nbformat": 4,
 "nbformat_minor": 5
}

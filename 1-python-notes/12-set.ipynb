{
 "cells": [
  {
   "cell_type": "markdown",
   "id": "96fb5b5c",
   "metadata": {},
   "source": [
    "# Sets"
   ]
  },
  {
   "cell_type": "markdown",
   "id": "94491dd5",
   "metadata": {},
   "source": [
    "- A set is a collection of unordered, unchangeable*, and unindexed.\n",
    "- Set items are unordered, unchangeable, and do not allow duplicate values.\n",
    "- * Note: Set items are unchangeable, but you can remove items and add new items.\n",
    "- Sets are written with curly brackets.\n"
   ]
  },
  {
   "cell_type": "code",
   "execution_count": null,
   "id": "6ac4187b",
   "metadata": {},
   "outputs": [
    {
     "name": "stdout",
     "output_type": "stream",
     "text": [
      "(A∪B) = {1, 2, 3, 4, 5, 6, 7, 9}\n",
      "(A∩B) = {5, 7}\n",
      "(A-B) = {1, 2, 3, 4, 6}\n",
      "(B-A) = {9}\n",
      "(A⊆C) = False\n",
      "(C⊆A) = True\n"
     ]
    }
   ],
   "source": [
    "a = {1, 2, 3, 4, 5, 6, 7}\n",
    "b = {5, 7, 9}\n",
    "c = {2, 4, 6}\n",
    "\n",
    "a_union_b = a.union(b)\n",
    "a_intersection_b = a.intersection(b)\n",
    "a_minus_b = a.difference(b)\n",
    "b_minus_a = b.difference(a)\n",
    "\n",
    "a_subset_c = a.issubset(c)\n",
    "c_subset_a = c.issubset(a)\n",
    "\n",
    "print(f\"(A∪B) = {a_union_b}\")\n",
    "print(f\"(A∩B) = {a_intersection_b}\")\n",
    "print(f\"(A-B) = {a_minus_b}\")\n",
    "print(f\"(B-A) = {b_minus_a}\")\n",
    "print(f\"(A⊆C) = {a_subset_c}\")\n",
    "print(f\"(C⊆A) = {c_subset_a}\")\n",
    "# print(f\"(A⊇C) = {sup_set}\")"
   ]
  },
  {
   "cell_type": "markdown",
   "id": "5e21e006",
   "metadata": {},
   "source": [
    "Python Collections (Arrays)\n",
    "There are four collection data types in the Python programming language:\n",
    "\n",
    "List is a collection which is ordered and changeable. Allows duplicate members.\n",
    "Tuple is a collection which is ordered and unchangeable. Allows duplicate members.\n",
    "Set is a collection which is unordered, unchangeable*, and unindexed. No duplicate members.\n",
    "Dictionary is a collection which is ordered** and changeable. No duplicate members.\n"
   ]
  },
  {
   "cell_type": "markdown",
   "id": "e18bd91b",
   "metadata": {},
   "source": [
    "| SN | Python Collections (Arrays) | Ordered/Unordered | Mutable(Changeable)/Immutable | Allows Duplicate |\n",
    "|- | - | - | - | - |\n",
    "| 1 | List | ordered | changeable | Yes |\n",
    "| 2 | Tuple | ordered | unchangeable | Yes |\n",
    "| 3 | Set | unordered/unindexed | unchangeable* | No |\n",
    "| 4 | Dictionary | ordered** | changeable | No |\n"
   ]
  }
 ],
 "metadata": {
  "kernelspec": {
   "display_name": "Python 3",
   "language": "python",
   "name": "python3"
  },
  "language_info": {
   "codemirror_mode": {
    "name": "ipython",
    "version": 3
   },
   "file_extension": ".py",
   "mimetype": "text/x-python",
   "name": "python",
   "nbconvert_exporter": "python",
   "pygments_lexer": "ipython3",
   "version": "3.13.3"
  }
 },
 "nbformat": 4,
 "nbformat_minor": 5
}

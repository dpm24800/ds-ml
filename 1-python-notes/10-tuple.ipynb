{
 "cells": [
  {
   "cell_type": "markdown",
   "id": "48760317",
   "metadata": {},
   "source": [
    "## Tuple"
   ]
  },
  {
   "cell_type": "markdown",
   "id": "89cf2a2c",
   "metadata": {},
   "source": [
    "- Tuple items are ordered, unchangeable, and allow duplicate values.\n",
    "\n",
    "- Tuple items are indexed, the first item has index [0], the second item has index [1] etc."
   ]
  },
  {
   "cell_type": "code",
   "execution_count": 35,
   "id": "2fa519ec",
   "metadata": {},
   "outputs": [
    {
     "name": "stdout",
     "output_type": "stream",
     "text": [
      "tupleX: ()\n"
     ]
    }
   ],
   "source": [
    "tupleX = () # empty tuple\n",
    "\n",
    "print(f\"tupleX: {tupleX}\")"
   ]
  },
  {
   "cell_type": "markdown",
   "id": "fdc37cec",
   "metadata": {},
   "source": [
    "### `del` list"
   ]
  },
  {
   "cell_type": "code",
   "execution_count": 38,
   "id": "0e771085",
   "metadata": {},
   "outputs": [
    {
     "name": "stdout",
     "output_type": "stream",
     "text": [
      "tupleX: (10, 20, 30)\n",
      "tupleX deleted.\n"
     ]
    }
   ],
   "source": [
    "tupleX = (10, 20, 30)\n",
    "print(f\"tupleX: {tupleX}\")\n",
    "\n",
    "del tupleX  # The del keyword can delete the tuple completely:\n",
    "print(\"tupleX deleted.\")\n",
    "\n",
    "# print(f\"tupleX: {tupleX}\")  # NameError: name 'tupleX' is not defined"
   ]
  },
  {
   "cell_type": "code",
   "execution_count": null,
   "id": "6af9cb05",
   "metadata": {},
   "outputs": [
    {
     "name": "stdout",
     "output_type": "stream",
     "text": [
      "tupleX: (10, 45, 98.45, 12.3, 'kathmandu', 'lumbini', [17, 45, 93], (65, 23, 90, 10), True, False)\n"
     ]
    }
   ],
   "source": [
    "# destroying variables if defined beforehand to avoid conflict\n",
    "if 'tupleX' in globals():\n",
    "    del tupleX  # The del keyword can delete the tuple completely:\n",
    "###############################################\n",
    "\n",
    "# A tuple can contain different data types\n",
    "tupleX = (10, 45, 98.45, 12.3, \"kathmandu\", \"lumbini\", [17, 45, 93], (65, 23, 90, 10), True, False)\n",
    "\n",
    "print(f\"tupleX: {tupleX}\")"
   ]
  },
  {
   "cell_type": "code",
   "execution_count": 39,
   "id": "0a10d806",
   "metadata": {},
   "outputs": [
    {
     "name": "stdout",
     "output_type": "stream",
     "text": [
      "tupleX: (1, 1, 2, 4, 5, 7, 2)\n",
      "\n",
      "listX: [1, 1, 2, 4, 5, 7, 2]\n",
      "setX: {1, 2, 4, 5, 7}\n"
     ]
    }
   ],
   "source": [
    "# destroying all the variables to avoid conflict\n",
    "if 'tupleX' in globals():\n",
    "    del tupleX\n",
    "if 'listX' in globals():\n",
    "    del listX\n",
    "if 'setX' in globals():\n",
    "    del setX\n",
    "###############################################\n",
    "# Tuples allow duplicate values\n",
    "tupleX = (1, 1, 2, 4, 5, 7, 2)\n",
    "listX = [1, 1, 2, 4, 5, 7, 2]  # List allow duplicate values\n",
    "setX = {1, 1, 2, 4, 5, 7, 2} # Set doesn't allow duplicate values\n",
    "\n",
    "print(f\"tupleX: {tupleX}\")\n",
    "print(f\"\\nlistX: {listX}\")\n",
    "print(f\"setX: {setX}\")"
   ]
  },
  {
   "cell_type": "markdown",
   "id": "94e855f4",
   "metadata": {},
   "source": [
    "### Using tuple() constructor to make a tuple"
   ]
  },
  {
   "cell_type": "markdown",
   "id": "5f0907da",
   "metadata": {},
   "source": [
    "- **function**: \n",
    "- **argument**: a tuple of items"
   ]
  },
  {
   "cell_type": "markdown",
   "id": "abdd67ad",
   "metadata": {},
   "source": [
    "#### tuple() constructor vs type-casting through tuple()"
   ]
  },
  {
   "cell_type": "code",
   "execution_count": 40,
   "id": "3cb2be5b",
   "metadata": {},
   "outputs": [
    {
     "name": "stdout",
     "output_type": "stream",
     "text": [
      "tupleX: (10, 20, 30)\n"
     ]
    }
   ],
   "source": [
    "# destroying all the variables to avoid conflict\n",
    "if 'tupleX' in globals():\n",
    "    del tupleX\n",
    "###############################################\n",
    "\n",
    "# tuplex = tuple(10, 20, 30) # TypeError: tuple expected at most 1 argument, got 3\n",
    "tupleX = tuple((10, 20, 30))\n",
    "# tupleX = tuple([10, 20, 30])\n",
    "\n",
    "# tupleX = tuple(10)\n",
    "# tupleX = tuple((10))\n",
    "# tupleX = tuple((10, ))\n",
    "# tupleX = tuple([10])\n",
    "\n",
    "print(f\"tupleX: {tupleX}\")"
   ]
  },
  {
   "cell_type": "code",
   "execution_count": 41,
   "id": "da455b3f",
   "metadata": {},
   "outputs": [
    {
     "name": "stdout",
     "output_type": "stream",
     "text": [
      "tupleX: (10, 45, 98.45, 12.3, 'kathmandu', 'lumbini', [17, 45, 93], (65, 23, 90, 10), True, False)\n"
     ]
    }
   ],
   "source": [
    "# destroying all the variables to avoid conflict\n",
    "if 'tupleX' in globals():\n",
    "    del tupleX\n",
    "###############################################\n",
    "\n",
    "# A tuple can contain different data types\n",
    "tupleX = tuple([10, 45, 98.45, 12.3, \"kathmandu\", \"lumbini\", [17, 45, 93], (65, 23, 90, 10), True, False])\n",
    "\n",
    "print(f\"tupleX: {tupleX}\")"
   ]
  },
  {
   "cell_type": "markdown",
   "id": "616e8e88",
   "metadata": {},
   "source": [
    "## Indexing/accessing"
   ]
  },
  {
   "cell_type": "code",
   "execution_count": null,
   "id": "0ef6e547",
   "metadata": {},
   "outputs": [],
   "source": [
    "thistuple = (\"apple\", \"banana\", \"cherry\")\n",
    "print(thistuple[1])"
   ]
  },
  {
   "cell_type": "markdown",
   "id": "5bc42308",
   "metadata": {},
   "source": [
    "#### Negative Indexing"
   ]
  },
  {
   "cell_type": "code",
   "execution_count": null,
   "id": "7bd60f18",
   "metadata": {},
   "outputs": [],
   "source": [
    "thistuple = (\"apple\", \"banana\", \"cherry\")\n",
    "print(thistuple[-1])"
   ]
  },
  {
   "cell_type": "markdown",
   "id": "1010ff02",
   "metadata": {},
   "source": [
    "## Slicing [Range of Indexes]\n",
    "- **start**: \n",
    "- **end(exclusive)**: \n",
    "- **stride**: step"
   ]
  },
  {
   "cell_type": "code",
   "execution_count": null,
   "id": "00276e25",
   "metadata": {},
   "outputs": [],
   "source": [
    "tupleX = (\"apple\", \"banana\", \"cherry\", \"orange\", \"kiwi\", \"melon\", \"mango\")\n",
    "print(thistuple[2:5])"
   ]
  },
  {
   "cell_type": "code",
   "execution_count": null,
   "id": "fc8f1024",
   "metadata": {},
   "outputs": [],
   "source": []
  },
  {
   "cell_type": "markdown",
   "id": "939b4b97",
   "metadata": {},
   "source": [
    "By leaving out the start value, the range will start at the first item:"
   ]
  },
  {
   "cell_type": "code",
   "execution_count": null,
   "id": "012c0e7d",
   "metadata": {},
   "outputs": [],
   "source": [
    "thistuple = (\"apple\", \"banana\", \"cherry\", \"orange\", \"kiwi\", \"melon\", \"mango\")\n",
    "print(thistuple[:4])"
   ]
  },
  {
   "cell_type": "markdown",
   "id": "01d1d1ad",
   "metadata": {},
   "source": [
    "By leaving out the end value, the range will go on to the end of the tuple:"
   ]
  },
  {
   "cell_type": "code",
   "execution_count": null,
   "id": "5d986ad5",
   "metadata": {},
   "outputs": [],
   "source": [
    "thistuple = (\"apple\", \"banana\", \"cherry\", \"orange\", \"kiwi\", \"melon\", \"mango\")\n",
    "print(thistuple[2:])"
   ]
  },
  {
   "cell_type": "markdown",
   "id": "0a3d0621",
   "metadata": {},
   "source": [
    "## List-related functions"
   ]
  },
  {
   "cell_type": "markdown",
   "id": "1b594f07",
   "metadata": {},
   "source": [
    "### len(tuple)"
   ]
  },
  {
   "cell_type": "code",
   "execution_count": 27,
   "id": "74b334c8",
   "metadata": {},
   "outputs": [
    {
     "name": "stdout",
     "output_type": "stream",
     "text": [
      "tupleX length: 10\n"
     ]
    }
   ],
   "source": [
    "# destroying all the variables\n",
    "if 'tupleX' in globals():\n",
    "    del tupleX\n",
    "\n",
    "tupleX = (10, 45, 98.45, 12.3, \"kathmandu\", \"lumbini\", [17, 45, 93], (65, 23, 90, 10), True, False)\n",
    "\n",
    "print(f\"tupleX length: {len(tupleX)}\")"
   ]
  },
  {
   "cell_type": "markdown",
   "id": "e544b673",
   "metadata": {},
   "source": [
    "### type(tuple)"
   ]
  },
  {
   "cell_type": "code",
   "execution_count": 29,
   "id": "1f0c1fa5",
   "metadata": {},
   "outputs": [
    {
     "name": "stdout",
     "output_type": "stream",
     "text": [
      "type(tupleX): <class 'tuple'>\n",
      "type(tupleX[1]): <class 'str'>\n",
      "type(tupleX[3]): <class 'bool'>\n"
     ]
    }
   ],
   "source": [
    "# clearing all the variables if already defined to avoid conflict\n",
    "if 'tupleX' in globals():\n",
    "    del tupleX\n",
    "\n",
    "if 'tupleY' in globals():\n",
    "    del tupleY\n",
    "\n",
    "if 'listX' in globals():\n",
    "    del listX\n",
    "\n",
    "if 'listY' in globals():\n",
    "    del listY\n",
    "###########################################\n",
    "\n",
    "tupleX = (15, \"bhairahawa\", 145.12, True)\n",
    "\n",
    "print(f\"type(tupleX): {type(tupleX)}\")\n",
    "print(f\"type(tupleX[1]): {type(tupleX[1])}\")\n",
    "print(f\"type(tupleX[3]): {type(tupleX[3])}\")"
   ]
  },
  {
   "cell_type": "markdown",
   "id": "e0d55476",
   "metadata": {},
   "source": [
    "### tuple() Constructor ✅"
   ]
  },
  {
   "cell_type": "code",
   "execution_count": null,
   "id": "edfc03ff",
   "metadata": {},
   "outputs": [],
   "source": [
    "# destroying all the variables\n",
    "if 'tupleX' in globals():\n",
    "    del tupleX\n",
    "##################################\n",
    "\n",
    "tupleX = tuple((15, \"surkhet\", 47.12, False)) # note the double round-brackets\n",
    "\n",
    "print(f\"tupleX: {tupleX}\")\n",
    "# print(f\"type(tuple): {type(tuple)}\")"
   ]
  },
  {
   "cell_type": "code",
   "execution_count": null,
   "id": "e53518d4",
   "metadata": {},
   "outputs": [],
   "source": [
    "list = list([10, 45, 47, 78])\n",
    "\n",
    "list"
   ]
  },
  {
   "cell_type": "markdown",
   "id": "347eac88",
   "metadata": {},
   "source": [
    "### Tuple with single item ✅"
   ]
  },
  {
   "cell_type": "code",
   "execution_count": null,
   "id": "3e692dc8",
   "metadata": {},
   "outputs": [],
   "source": [
    "# comma (,) after a item makes that variable as tuple\n",
    "x = (5)\n",
    "y = (10, )\n",
    "\n",
    "print(f\"type(x): {type(x)})\")\n",
    "print(f\"type(y): {type(y)})\")"
   ]
  },
  {
   "cell_type": "code",
   "execution_count": 30,
   "id": "45071d3e",
   "metadata": {},
   "outputs": [
    {
     "name": "stdout",
     "output_type": "stream",
     "text": [
      "type(x): <class 'str'>)\n",
      "type(y): <class 'tuple'>)\n"
     ]
    }
   ],
   "source": [
    "# tuple vs string\n",
    "x = (\"dipak\")\n",
    "y = (\"kathmandu\", )\n",
    "\n",
    "print(f\"type(x): {type(x)})\")\n",
    "print(f\"type(y): {type(y)})\")"
   ]
  },
  {
   "cell_type": "markdown",
   "id": "8fa9615b",
   "metadata": {},
   "source": [
    "#### 'in' and 'not in' the tuple"
   ]
  },
  {
   "cell_type": "code",
   "execution_count": null,
   "id": "5afb4987",
   "metadata": {},
   "outputs": [
    {
     "name": "stdout",
     "output_type": "stream",
     "text": [
      "80 is in the tupleX.\n",
      "100 is in the tupleX.\n"
     ]
    }
   ],
   "source": [
    "if 'tupleX' in globals():\n",
    "    del tupleX  # The del keyword can delete the tuple completely:\n",
    "##################################\n",
    "\n",
    "tupleX = (10, 20, 50, 80, 70)\n",
    "\n",
    "if 80 in tupleX:\n",
    "    print(\"80 is in the tupleX.\")\n",
    "\n",
    "if 100 not in tupleX:\n",
    "    print(\"100 is in the tupleX.\")"
   ]
  },
  {
   "cell_type": "markdown",
   "id": "68e91d03",
   "metadata": {},
   "source": [
    "## Updating a tuple"
   ]
  },
  {
   "cell_type": "markdown",
   "id": "ab16fcfc",
   "metadata": {},
   "source": [
    "### Adding new items in a tuple"
   ]
  },
  {
   "cell_type": "code",
   "execution_count": null,
   "id": "fbefe781",
   "metadata": {},
   "outputs": [],
   "source": [
    "# clearing all the variables if already defined to avoid conflict\n",
    "if 'tupleX' in globals():\n",
    "    del tupleX\n",
    "\n",
    "if 'tupleY' in globals():\n",
    "    del tupleY\n",
    "\n",
    "if 'listX' in globals():\n",
    "    del listX\n",
    "\n",
    "if 'listY' in globals():\n",
    "    del listY\n",
    "###########################################\n",
    "# Though tuple can't be changed directly, there is a workaround.\n",
    "# That's -- convert the tuple into a list, change the list, and convert the list back into a tuple.\n",
    "\n",
    "tupleA = (10, 20, 5, 8)\n",
    "print(f\"tupleA (before change): {tupleA}\")\n",
    "\n",
    "listA = list(tupleA)\n",
    "listA.append(15)\n",
    "listA.extend([10, 5, 7, 45])\n",
    "listA.insert(5, (15, False, \"Kalikot\"))\n",
    "tupleA = tuple(listA)\n",
    "print(f\"\\ntupleA (after change): {tupleA}\")\n",
    "print(f\"type(tupleA): {type(tupleA)}\")"
   ]
  },
  {
   "cell_type": "markdown",
   "id": "0fda1d91",
   "metadata": {},
   "source": [
    "### Changing tuple values"
   ]
  },
  {
   "cell_type": "code",
   "execution_count": null,
   "id": "e720ea9e",
   "metadata": {},
   "outputs": [],
   "source": [
    "# clearing all the variables if already defined to avoid conflict\n",
    "if 'tupleX' in globals():\n",
    "    del tupleX\n",
    "\n",
    "if 'tupleY' in globals():\n",
    "    del tupleY\n",
    "\n",
    "if 'listX' in globals():\n",
    "    del listX\n",
    "\n",
    "if 'listY' in globals():\n",
    "    del listY\n",
    "###########################################\n",
    "\n",
    "# Though tuple can't be changed directly, there is a workaround.\n",
    "# That's -- convert the tuple into a list, change the list, and convert the list back into a tuple.\n",
    "tupleX = ('kathmandu', 'surkhet', 'hetauda', 'palpa', 'pokhara')\n",
    "print(f\"tupleX(before change): {tupleX}\")\n",
    "\n",
    "# Convert to list\n",
    "listX = list(tupleX)\n",
    "\n",
    "# Modify the list\n",
    "listX[1] = 'baglung'\n",
    "listX[3] = 'biratnagar'\n",
    "\n",
    "# Convert back to tuple\n",
    "tupleX = tuple(listX)\n",
    "print(f\"\\ntupleX(after change): {tupleX}\")\n",
    "print(f\"type(tupleX): {type(tupleX)}\")"
   ]
  },
  {
   "cell_type": "markdown",
   "id": "b93247db",
   "metadata": {},
   "source": [
    "### Removing tuple items"
   ]
  },
  {
   "cell_type": "code",
   "execution_count": null,
   "id": "14d4b0a8",
   "metadata": {},
   "outputs": [],
   "source": [
    "# clearing all the variables if already defined to avoid conflict\n",
    "if 'tupleX' in globals():\n",
    "    del tupleX\n",
    "\n",
    "if 'tupleY' in globals():\n",
    "    del tupleY\n",
    "\n",
    "if 'listX' in globals():\n",
    "    del listX\n",
    "\n",
    "if 'listY' in globals():\n",
    "    del listY\n",
    "###########################################\n",
    "\n",
    "# Though tuple can't be changed directly, there is a workaround.\n",
    "# That's -- convert the tuple into a list, change the list, and convert the list back into a tuple.\n",
    "tupleX = ('kathmandu', 'surkhet', 'hetauda', 'janakpur', 'rautahat', 45, 12, 61)\n",
    "print(f\"tupleX(before removal): {tupleX}\")\n",
    "\n",
    "# Convert to list\n",
    "listX = list(tupleX)\n",
    "\n",
    "# Modify the list\n",
    "listX.pop(2)\n",
    "listX.remove\n",
    "\n",
    "# Convert back to tuple\n",
    "tupleX = tuple(listX)\n",
    "print(f\"\\ntupleX(after removal): {tupleX}\")\n",
    "print(f\"type(tupleX): {type(tupleX)}\")"
   ]
  },
  {
   "cell_type": "markdown",
   "id": "b9f631a0",
   "metadata": {},
   "source": [
    "### Joining tuples"
   ]
  },
  {
   "cell_type": "code",
   "execution_count": 71,
   "id": "b6aee402",
   "metadata": {},
   "outputs": [
    {
     "name": "stdout",
     "output_type": "stream",
     "text": [
      "tupleX: ('a', 'b', 'c')\n",
      "tupleY: (1, 2, 3)\n",
      "\n",
      "tupleZ = tupleX + tupleY: ('a', 'b', 'c', 1, 2, 3)\n"
     ]
    }
   ],
   "source": [
    "# clearing all the variables if already defined to avoid conflict\n",
    "if 'tupleX' in globals():\n",
    "    del tupleX\n",
    "\n",
    "if 'tupleY' in globals():\n",
    "    del tupleY\n",
    "\n",
    "if 'tupleZ' in globals():\n",
    "    del tupleZ\n",
    "##############################################\n",
    "\n",
    "tupleX = ('a', 'b', 'c')\n",
    "tupleY = (1, 2, 3)\n",
    "\n",
    "print(\"tupleX: {}\".format(tupleX))\n",
    "print(\"tupleY: {}\".format(tupleY))\n",
    "\n",
    "print(\"\\ntupleZ = tupleX + tupleY: {tupleZ}\".format(tupleZ = tupleX + tupleY))"
   ]
  },
  {
   "cell_type": "markdown",
   "id": "c79c6ba9",
   "metadata": {},
   "source": [
    "#### Adding a single-item tuple to add new items"
   ]
  },
  {
   "cell_type": "code",
   "execution_count": 70,
   "id": "fc1ce7e3",
   "metadata": {},
   "outputs": [
    {
     "name": "stdout",
     "output_type": "stream",
     "text": [
      "tupleX (before): ('kathmandu', 'hetauda', 'gorkha')\n",
      "tupleX (after): ('kathmandu', 'hetauda', 'gorkha', 'ilam')\n"
     ]
    }
   ],
   "source": [
    "# clearing all the variables if already defined to avoid conflict\n",
    "if 'tupleX' in globals():\n",
    "    del tupleX\n",
    "\n",
    "if 'tupleY' in globals():\n",
    "    del tupleY\n",
    "###########################################\n",
    "\n",
    "# create a new tuple with a value, and add to old tuple\n",
    "tupleX = (\"kathmandu\", \"hetauda\", \"gorkha\")\n",
    "tupleY = (\"ilam\",)\n",
    "\n",
    "print(f\"tupleX (before): {tupleX}\")\n",
    "\n",
    "tupleX += tupleY\n",
    "print(f\"tupleX (after): {tupleX}\")"
   ]
  },
  {
   "cell_type": "markdown",
   "id": "de16ef08",
   "metadata": {},
   "source": [
    "#### OR"
   ]
  },
  {
   "cell_type": "code",
   "execution_count": 73,
   "id": "c913fad1",
   "metadata": {},
   "outputs": [
    {
     "name": "stdout",
     "output_type": "stream",
     "text": [
      "tupleX (before): ('kathmandu', 'hetauda', 'gorkha')\n",
      "tupleX (after): ('kathmandu', 'hetauda', 'gorkha', 'ilam')\n"
     ]
    }
   ],
   "source": [
    "# clearing all the variables if already defined to avoid conflict\n",
    "if 'tupleX' in globals():\n",
    "    del tupleX\n",
    "\n",
    "if 'listX' in globals():\n",
    "    del listX\n",
    "###########################################\n",
    "\n",
    "# create a new tuple with a value, and add to old tuple\n",
    "tupleX = (\"kathmandu\", \"hetauda\", \"gorkha\")\n",
    "print(f\"tupleX (before): {tupleX}\")\n",
    "\n",
    "listX = list(tupleX)\n",
    "listX.append(\"ilam\")\n",
    "tupleX = tuple(listX)\n",
    "\n",
    "print(f\"tupleX (after): {tupleX}\")"
   ]
  },
  {
   "cell_type": "markdown",
   "id": "28dbb0a1",
   "metadata": {},
   "source": [
    "### Multiplying a tuple"
   ]
  },
  {
   "cell_type": "code",
   "execution_count": 74,
   "id": "675ef9ab",
   "metadata": {},
   "outputs": [
    {
     "name": "stdout",
     "output_type": "stream",
     "text": [
      "Original tuples: \n",
      "tupleX: ('Kath', 'Bhakta', 'Lalit')\n",
      "tupleY: (10, 20, 45)\n",
      "\n",
      "Multiplied tuples: \n",
      "tupleX * 3: ('Kath', 'Bhakta', 'Lalit', 'Kath', 'Bhakta', 'Lalit', 'Kath', 'Bhakta', 'Lalit')\n",
      "tupleX * 4: (10, 20, 45, 10, 20, 45, 10, 20, 45, 10, 20, 45)\n",
      "\n",
      "type(x): <class 'tuple'>\n",
      "type(y): <class 'tuple'>\n"
     ]
    }
   ],
   "source": [
    "# clearing all the variables if already defined to avoid conflict\n",
    "if 'tupleX' in globals():\n",
    "    del tupleX\n",
    "\n",
    "if 'tupleY' in globals():\n",
    "    del tupleY\n",
    "##############################################\n",
    "# Multiplying a tuple\n",
    "tupleX = (\"Kath\", \"Bhakta\", \"Lalit\")\n",
    "tupleY = (10, 20, 45)\n",
    "\n",
    "print(\"Original tuples: \")\n",
    "print(f\"tupleX: {tupleX}\")\n",
    "print(f\"tupleY: {tupleY}\")\n",
    "\n",
    "x = tupleX * 3\n",
    "y = tupleY * 4\n",
    "\n",
    "print(\"\\nMultiplied tuples: \")\n",
    "print(\"tupleX * 3: {}\".format(x))\n",
    "print(\"tupleX * 4: {}\".format(y))\n",
    "\n",
    "print(f\"\\ntype(x): {type(x)}\")\n",
    "print(f\"type(y): {type(y)}\")"
   ]
  },
  {
   "cell_type": "markdown",
   "id": "43d21112",
   "metadata": {},
   "source": [
    "## Common Tuple Methods"
   ]
  },
  {
   "cell_type": "markdown",
   "id": "92002a81",
   "metadata": {},
   "source": [
    "### tuple.count()\n",
    "- **function**: counts the occurance of given value in the tuple\n",
    "- **argument**: value/item to be counted"
   ]
  },
  {
   "cell_type": "code",
   "execution_count": 67,
   "id": "2552291f",
   "metadata": {},
   "outputs": [
    {
     "name": "stdout",
     "output_type": "stream",
     "text": [
      "tupleX.count(10): 2\n",
      "tupleX.count(50): 1\n"
     ]
    }
   ],
   "source": [
    "# clears the variable to avoid conflict if it's already defined\n",
    "if 'tupleX' in globals():\n",
    "    del tupleX\n",
    "##############################################\n",
    "\n",
    "tupleX = (10, 20, 50, 10, 80, 20, 70)\n",
    "\n",
    "print(f\"tupleX.count(10): {tupleX.count(10)}\") # \n",
    "print(f\"tupleX.count(50): {tupleX.count(50)}\") # "
   ]
  },
  {
   "cell_type": "markdown",
   "id": "62821953",
   "metadata": {},
   "source": [
    "### tuple.index()\n",
    "- **function**: returns index of first occurance of given value in the tuple\n",
    "- **argument**: value/item to be searched"
   ]
  },
  {
   "cell_type": "code",
   "execution_count": 68,
   "id": "09be956e",
   "metadata": {},
   "outputs": [
    {
     "name": "stdout",
     "output_type": "stream",
     "text": [
      "tupleX.index(10): 0\n",
      "tupleX.inndex(50): 2\n"
     ]
    }
   ],
   "source": [
    "# clears the variable to avoid conflict if it's already defined\n",
    "if 'tupleX' in globals():\n",
    "    del tupleX\n",
    "##############################################\n",
    "\n",
    "tupleX = (10, 20, 50, 10, 80, 20, 70)\n",
    "\n",
    "print(f\"tupleX.index(10): {tupleX.index(10)}\")\n",
    "print(f\"tupleX.inndex(50): {tupleX.index(50)}\")"
   ]
  },
  {
   "cell_type": "markdown",
   "id": "027e05e2",
   "metadata": {},
   "source": [
    "---"
   ]
  },
  {
   "cell_type": "code",
   "execution_count": null,
   "id": "ad42a542",
   "metadata": {},
   "outputs": [],
   "source": [
    "list = [10, 14, 7, 8, 12, 56]\n",
    "for i in range(len(list)-1, -1, -1):\n",
    "    print(f\"list[{i}]: {list[i]}]\")"
   ]
  },
  {
   "cell_type": "code",
   "execution_count": 101,
   "id": "59fe493c",
   "metadata": {},
   "outputs": [
    {
     "name": "stdout",
     "output_type": "stream",
     "text": [
      "50\n",
      "78.0\n",
      "[10, 8, 20, 17, 30]\n",
      "(10, 8, 20, 17, 30)\n",
      "True\n"
     ]
    }
   ],
   "source": [
    "intX = int(50.50)\n",
    "floatX = float(78)\n",
    "aa = list([10, 8, 20, 17, 30])\n",
    "bb = tuple(aa)\n",
    "boolX = bool(True)\n",
    "\n",
    "print(intX)\n",
    "print(floatX)\n",
    "print(aa)\n",
    "print(bb)\n",
    "print(boolX)"
   ]
  },
  {
   "cell_type": "code",
   "execution_count": null,
   "id": "7a68c363",
   "metadata": {},
   "outputs": [],
   "source": [
    "# easycoder"
   ]
  },
  {
   "cell_type": "code",
   "execution_count": 83,
   "id": "d1a03c86",
   "metadata": {},
   "outputs": [
    {
     "data": {
      "text/plain": [
       "(10,)"
      ]
     },
     "execution_count": 83,
     "metadata": {},
     "output_type": "execute_result"
    }
   ],
   "source": [
    "# intA = tuple((10,))\n",
    "# floatA = tuple((10.53,))\n",
    "\n",
    "# x = tuple(10)\n",
    "y = tuple([10])\n",
    "\n",
    "# intA\n",
    "floatA\n",
    "\n",
    "y"
   ]
  },
  {
   "cell_type": "code",
   "execution_count": 122,
   "id": "8a5e50ff",
   "metadata": {},
   "outputs": [
    {
     "name": "stdout",
     "output_type": "stream",
     "text": [
      "('name', 'age', 'address')\n"
     ]
    }
   ],
   "source": [
    "xx = tuple([10, 20, 30]) # type casting/conversion: (list to tuple)  \n",
    "yy = tuple((10, 20, 30)) # constructor, tuple definion\n",
    "\n",
    "# constructor: tuple(tuple)\n",
    "# type conversion: tuple(list/dictonary/set)\n",
    "\n",
    "# tuple() constructor\n",
    "tupleA = (10, 20, 30)\n",
    "tupleX = tuple(tupleA) # same as: tupleX = tupleA\n",
    "tupleY = tuple([20, 50, 100]) # same as: tupleY = (20, 50, 100)\n",
    "\n",
    "# Type conversion: list to tuple\n",
    "listA = [20, 7, 20, 30, 50]\n",
    "list_tupA = tuple(listA)\n",
    "list_tupB = tuple([45, 8, 96, 34, 24])\n",
    "\n",
    "# Type conversion: dictonary to tuple\n",
    "dictA = {'name': 'dipak', 'age': 30, 'address': 'surkeht'}\n",
    "dict_tup = tuple(dictA) # converts dictonary keys into tuple, not their value\n",
    "dictK_tup = tuple(dictA.keys())\n",
    "dictV_tup = tuple(dictA.values())\n",
    "\n",
    "# Type conversion: set to tuple\n",
    "setA = {10, 20, 30, 5, 10}\n",
    "set_tupA = tuple(setA)\n",
    "set_tupB = tuple({\"dipak\", \"ramesh\", \"arjun\"})\n",
    "\n",
    "# print()\n",
    "print(zx)\n",
    "# print(zy)\n",
    "# print(zz)\n",
    "\n",
    "# print(dictA)\n",
    "# print(dictA.keys())\n",
    "# print(dictA.values())\n",
    "# print(type(dictA))\n",
    "\n",
    "# print(type(zx))\n",
    "# print(type(zy))\n",
    "# print(type(zz))"
   ]
  }
 ],
 "metadata": {
  "kernelspec": {
   "display_name": "Python 3",
   "language": "python",
   "name": "python3"
  },
  "language_info": {
   "codemirror_mode": {
    "name": "ipython",
    "version": 3
   },
   "file_extension": ".py",
   "mimetype": "text/x-python",
   "name": "python",
   "nbconvert_exporter": "python",
   "pygments_lexer": "ipython3",
   "version": "3.12.6"
  }
 },
 "nbformat": 4,
 "nbformat_minor": 5
}

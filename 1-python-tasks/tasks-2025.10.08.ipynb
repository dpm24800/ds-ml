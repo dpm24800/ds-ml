{
 "cells": [
  {
   "cell_type": "markdown",
   "id": "e7c45a7d",
   "metadata": {},
   "source": [
    "# Assignment: Day 3"
   ]
  },
  {
   "cell_type": "markdown",
   "id": "e7af1c98",
   "metadata": {},
   "source": [
    "## Question 1"
   ]
  },
  {
   "cell_type": "code",
   "execution_count": null,
   "id": "ebe5f7d9",
   "metadata": {},
   "outputs": [
    {
     "name": "stdout",
     "output_type": "stream",
     "text": [
      "You encoded secret is: ?GNIOD UOY ERA TAHW19\n"
     ]
    }
   ],
   "source": [
    "code = input(\"Enter the secret word: \")\n",
    "length = str(len(code)) # Using len() function\n",
    "reversed_upper = code[::-1].upper() # 1st String method: str.upper()\n",
    "encoded = \"\".join([reversed_upper, length]) # 2nd String method: str.join()\n",
    "message = \"You encoded secret is: {}\".format(encoded) # 3nd String method: str.format()\n",
    "print(message)"
   ]
  },
  {
   "cell_type": "code",
   "execution_count": 19,
   "id": "e3e37706",
   "metadata": {},
   "outputs": [
    {
     "name": "stdout",
     "output_type": "stream",
     "text": [
      "Your encoded secret is: .NOOS GNIYD ERA EW18\n"
     ]
    }
   ],
   "source": [
    "# Alternate\n",
    "code = input(\"Enter the secret word: \")\n",
    "length = len(code) # 2nd requirement fulfilled\n",
    "code = code[::-1].upper() # 1st String method: str.upper()\n",
    "print(\"Your encoded secret is: {cd}{leng}\".format(cd=code,leng=length)) # 2nd String method: str.format()"
   ]
  },
  {
   "cell_type": "code",
   "execution_count": 18,
   "id": "2a2aa7e6",
   "metadata": {},
   "outputs": [
    {
     "name": "stdout",
     "output_type": "stream",
     "text": [
      "Your encoded secret is: .LAPEN NI EVIL I16\n"
     ]
    }
   ],
   "source": [
    "# Concise\n",
    "code = input(\"Enter the secret word: \")\n",
    "print(f\"Your encoded secret is: {code[::-1].upper()}{len(code)}\")"
   ]
  },
  {
   "cell_type": "markdown",
   "id": "69158954",
   "metadata": {},
   "source": [
    "## Question 2"
   ]
  },
  {
   "cell_type": "code",
   "execution_count": 3,
   "id": "c851855e",
   "metadata": {},
   "outputs": [
    {
     "name": "stdout",
     "output_type": "stream",
     "text": [
      "Last night, I had the most ugly dream! I was riding a bike with KP Oli. Suddenly, we were attacked by a horde of cats! We felt a deep sense of sadness.\n"
     ]
    }
   ],
   "source": [
    "adj = input(\"Enter a silly adjective: \")\n",
    "noun = input(\"Enter a plural noun: \")\n",
    "vehicle = input(\"Enter a type of vehicle: \")\n",
    "famous_person = input(\"Enter a famous person: \")\n",
    "emotion = input(\"Enter an emotion: \")\n",
    "\n",
    "# Using f-string\n",
    "# story = f\"Last night, I had the most {adj} dream! I was riding a {vehicle} with {famous_person}. Suddenly, we were attacked by a horde of {noun}! We felt a deep sense of {emotion}.\"\n",
    "\n",
    "# Using str.format() method\n",
    "story = \"Last night, I had the most {adj} dream! I was riding a {vehicle} with {famous_person}. Suddenly, we were attacked by a horde of {noun}! We felt a deep sense of {emotion}.\".format(adj=adj, vehicle=vehicle, famous_person=famous_person, noun=noun, emotion=emotion)\n",
    "\n",
    "print(story)"
   ]
  },
  {
   "cell_type": "markdown",
   "id": "9129ae5d",
   "metadata": {},
   "source": [
    "## Question 3"
   ]
  },
  {
   "cell_type": "code",
   "execution_count": 11,
   "id": "1bfae2a3",
   "metadata": {},
   "outputs": [
    {
     "name": "stdout",
     "output_type": "stream",
     "text": [
      "Original: The Nepal is the most beautiful country in the world.\n",
      "lowercase: the nepal is the most beautiful country in the world.\n",
      "UPPERCASE: THE NEPAL IS THE MOST BEAUTIFUL COUNTRY IN THE WORLD.\n",
      "Length: 53 characters\n",
      "Starts with 'The': True\n"
     ]
    }
   ],
   "source": [
    "sentence = input(\"Enter a sentence: \")\n",
    "\n",
    "print(\"Original: {orig}\".format(orig = sentence))\n",
    "print(\"lowercase: {upper}\".format(upper=sentence.lower()))\n",
    "print(\"UPPERCASE: {upper}\".format(upper=sentence.upper()))\n",
    "print(\"Length: {number} characters\".format(number=len(sentence)))\n",
    "print(\"Starts with 'The': {yn}\".format(yn = sentence.startswith('The')))"
   ]
  },
  {
   "cell_type": "markdown",
   "id": "8c79a967",
   "metadata": {},
   "source": [
    "## Question 4: MCQs\n",
    "|SN| My Answer| Correct Anwer| Result |\n",
    "|-|-|-|-|\n",
    "|1| 😕 puzzled | 'Python'| ❌|\n",
    "|2| 😕 puzzled | -h-e-l-l-o-|❌|\n",
    "|3|True |6 |❌"
   ]
  },
  {
   "cell_type": "code",
   "execution_count": 10,
   "id": "bb22e782",
   "metadata": {},
   "outputs": [
    {
     "name": "stdout",
     "output_type": "stream",
     "text": [
      "Python\n"
     ]
    }
   ],
   "source": [
    "s = \"Python\"\n",
    "print(s[::-1][::-1])"
   ]
  },
  {
   "cell_type": "code",
   "execution_count": 9,
   "id": "a3d0e9dc",
   "metadata": {},
   "outputs": [
    {
     "name": "stdout",
     "output_type": "stream",
     "text": [
      "-h-e-l-l-o-\n"
     ]
    }
   ],
   "source": [
    "s = \"hello\"\n",
    "print(s.replace(\"\", \"-\"))"
   ]
  },
  {
   "cell_type": "code",
   "execution_count": 13,
   "id": "4d45b612",
   "metadata": {},
   "outputs": [
    {
     "name": "stdout",
     "output_type": "stream",
     "text": [
      "6\n"
     ]
    }
   ],
   "source": [
    "s = \"Hello World!\"\n",
    "x = s.find(\"World\")\n",
    "print(x)"
   ]
  }
 ],
 "metadata": {
  "kernelspec": {
   "display_name": "Python 3",
   "language": "python",
   "name": "python3"
  },
  "language_info": {
   "codemirror_mode": {
    "name": "ipython",
    "version": 3
   },
   "file_extension": ".py",
   "mimetype": "text/x-python",
   "name": "python",
   "nbconvert_exporter": "python",
   "pygments_lexer": "ipython3",
   "version": "3.13.7"
  }
 },
 "nbformat": 4,
 "nbformat_minor": 5
}

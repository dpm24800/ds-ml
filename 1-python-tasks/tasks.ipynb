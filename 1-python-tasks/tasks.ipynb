{
 "cells": [
  {
   "cell_type": "markdown",
   "id": "59466655",
   "metadata": {},
   "source": [
    "## Q1. WAP to print prime numbers till 'n' numbers."
   ]
  },
  {
   "cell_type": "code",
   "execution_count": null,
   "id": "3c5148a5",
   "metadata": {},
   "outputs": [
    {
     "name": "stdout",
     "output_type": "stream",
     "text": [
      "2 1\n",
      "3 1\n",
      "3 2\n",
      "4 1\n",
      "4 2\n",
      "4 3\n",
      "5 1\n",
      "5 2\n",
      "5 3\n",
      "5 4\n",
      "6 1\n",
      "6 2\n",
      "6 3\n",
      "6 4\n",
      "6 5\n",
      "7 1\n",
      "7 2\n",
      "7 3\n",
      "7 4\n",
      "7 5\n",
      "7 6\n",
      "8 1\n",
      "8 2\n",
      "8 3\n",
      "8 4\n",
      "8 5\n",
      "8 6\n",
      "8 7\n",
      "9 1\n",
      "9 2\n",
      "9 3\n",
      "9 4\n",
      "9 5\n",
      "9 6\n",
      "9 7\n",
      "9 8\n",
      "10 1\n",
      "10 2\n",
      "10 3\n",
      "10 4\n",
      "10 5\n",
      "10 6\n",
      "10 7\n",
      "10 8\n",
      "10 9\n"
     ]
    }
   ],
   "source": [
    "number = int(input(\"Number: \"))\n",
    "\n",
    "for i in range (1, number + 1):\n",
    "    if i % i-\n",
    "\n",
    "    for j in range (1, i):\n",
    "        if i == j:\n",
    "            continue\n",
    "\n",
    "        print(i, j)\n",
    "        # if i % j == 0:\n",
    "        #     continue\n",
    "        # print(i)\n",
    "    "
   ]
  },
  {
   "cell_type": "code",
   "execution_count": null,
   "id": "e0d5fdf2",
   "metadata": {},
   "outputs": [
    {
     "name": "stdout",
     "output_type": "stream",
     "text": [
      "Prime numbers up to 10 are:\n",
      "2\n",
      "3\n",
      "5\n",
      "7\n"
     ]
    }
   ],
   "source": [
    "# Program to print prime numbers up to n\n",
    "\n",
    "# Take input from user\n",
    "n = int(input(\"Enter a number: \"))\n",
    "\n",
    "print(f\"Prime numbers up to {n} are:\")\n",
    "\n",
    "for num in range(2, n + 1):  # start from 2 because 1 is not prime\n",
    "    is_prime = True\n",
    "    for i in range(2, int(num ** 0.5) + 1):  # check divisors up to sqrt(num)\n",
    "        if num % i == 0:\n",
    "            is_prime = False\n",
    "            break\n",
    "    if is_prime:\n",
    "        print(num)\n"
   ]
  },
  {
   "cell_type": "code",
   "execution_count": null,
   "id": "a967b4d3",
   "metadata": {},
   "outputs": [],
   "source": [
    "# Function to check if a number is prime using recursion\n",
    "def is_prime(num, divisor=2):\n",
    "    # Base cases\n",
    "    if num < 2:\n",
    "        return False\n",
    "    if divisor * divisor > num:\n",
    "        return True\n",
    "    if num % divisor == 0:\n",
    "        return False\n",
    "    # Recursive call\n",
    "    return is_prime(num, divisor + 1)\n",
    "\n",
    "# Recursive function to print primes up to n\n",
    "def print_primes(current, n):\n",
    "    if current > n:\n",
    "        return\n",
    "    if is_prime(current):\n",
    "        print(current, end=\" \")\n",
    "    print_primes(current + 1, n)\n",
    "\n",
    "# Take input from user\n",
    "n = int(input(\"Enter a number: \"))\n",
    "\n",
    "print(f\"Prime numbers up to {n}:\")\n",
    "print_primes(2, n)\n"
   ]
  },
  {
   "cell_type": "markdown",
   "id": "7575daa0",
   "metadata": {},
   "source": [
    "## Q2. Print the given patterns"
   ]
  },
  {
   "cell_type": "markdown",
   "id": "2ddbdadc",
   "metadata": {},
   "source": [
    "### 2.1 WAP to print the given pattern upto 'n' number.\n",
    "```\n",
    "x  \n",
    "xx  \n",
    "xxx  \n",
    "xxxx  \n",
    "xxxxx \n",
    "``` "
   ]
  },
  {
   "cell_type": "code",
   "execution_count": 10,
   "id": "b4231759",
   "metadata": {},
   "outputs": [
    {
     "name": "stdout",
     "output_type": "stream",
     "text": [
      "x\n",
      "xx\n",
      "xxx\n",
      "xxxx\n",
      "xxxxx\n",
      "xxxxxx\n",
      "xxxxxxx\n",
      "xxxxxxxx\n",
      "xxxxxxxxx\n",
      "xxxxxxxxxx\n"
     ]
    }
   ],
   "source": [
    "# Without function\n",
    "x = int(input(\"Number: \"))\n",
    "\n",
    "for i in range (1, x + 1):\n",
    "    print(\"x\"*i)"
   ]
  },
  {
   "cell_type": "code",
   "execution_count": null,
   "id": "152ab75d",
   "metadata": {},
   "outputs": [
    {
     "name": "stdout",
     "output_type": "stream",
     "text": [
      "x\n",
      "xx\n",
      "xxx\n",
      "xxxx\n",
      "xxxxx\n",
      "xxxxxx\n",
      "xxxxxxx\n",
      "xxxxxxxx\n",
      "xxxxxxxxx\n",
      "xxxxxxxxxx\n"
     ]
    }
   ],
   "source": [
    "# Using a function\n",
    "def pattern1(x):\n",
    "    for i in range (1, x + 1):\n",
    "        print(\"x\"*i)\n",
    "\n",
    "num = int(input(\"Number: \"))\n",
    "pattern1(num)"
   ]
  },
  {
   "cell_type": "markdown",
   "id": "e949a324",
   "metadata": {},
   "source": [
    "### 2.2 WAP to print the given pattern upto 'n' number.\n",
    "```\n",
    "    x  \n",
    "   xx  \n",
    "  xxx  \n",
    " xxxx  \n",
    "xxxxx  \n",
    "```"
   ]
  },
  {
   "cell_type": "code",
   "execution_count": null,
   "id": "6a9fb493",
   "metadata": {},
   "outputs": [
    {
     "name": "stdout",
     "output_type": "stream",
     "text": [
      "         x\n",
      "        xx\n",
      "       xxx\n",
      "      xxxx\n",
      "     xxxxx\n",
      "    xxxxxx\n",
      "   xxxxxxx\n",
      "  xxxxxxxx\n",
      " xxxxxxxxx\n",
      "xxxxxxxxxx\n"
     ]
    }
   ],
   "source": [
    "# Without function\n",
    "x = int(input(\"Number: \"))\n",
    "for i in range (1, x + 1):\n",
    "    print(\" \" * (x-i) + \"x\"*i)"
   ]
  },
  {
   "cell_type": "code",
   "execution_count": null,
   "id": "3a9b2eed",
   "metadata": {},
   "outputs": [
    {
     "name": "stdout",
     "output_type": "stream",
     "text": [
      "         x\n",
      "        xx\n",
      "       xxx\n",
      "      xxxx\n",
      "     xxxxx\n",
      "    xxxxxx\n",
      "   xxxxxxx\n",
      "  xxxxxxxx\n",
      " xxxxxxxxx\n",
      "xxxxxxxxxx\n"
     ]
    }
   ],
   "source": [
    "# Using a function\n",
    "def pattern2(x):\n",
    "    for i in range (1, x + 1):\n",
    "        print(\" \" * (x-i) + \"x\"*i)\n",
    "\n",
    "num = int(input(\"Number: \"))\n",
    "pattern2(num)"
   ]
  },
  {
   "cell_type": "markdown",
   "id": "11127323",
   "metadata": {},
   "source": [
    "### 2.3 WAP to print the pyramid pattern of 'x' upto 'n' number."
   ]
  },
  {
   "cell_type": "code",
   "execution_count": null,
   "id": "42e7b61e",
   "metadata": {},
   "outputs": [
    {
     "name": "stdout",
     "output_type": "stream",
     "text": [
      "         x \n",
      "        x x \n",
      "       x x x \n",
      "      x x x x \n",
      "     x x x x x \n",
      "    x x x x x x \n",
      "   x x x x x x x \n",
      "  x x x x x x x x \n",
      " x x x x x x x x x \n",
      "x x x x x x x x x x \n"
     ]
    }
   ],
   "source": [
    "# Without function\n",
    "x = int(input(\"Number: \"))\n",
    "\n",
    "for i in range (1, x + 1):\n",
    "    print(\" \"* (x-i) + \"x \"*i)"
   ]
  },
  {
   "cell_type": "code",
   "execution_count": null,
   "id": "c8f2294b",
   "metadata": {},
   "outputs": [
    {
     "name": "stdout",
     "output_type": "stream",
     "text": [
      "         x \n",
      "        x x \n",
      "       x x x \n",
      "      x x x x \n",
      "     x x x x x \n",
      "    x x x x x x \n",
      "   x x x x x x x \n",
      "  x x x x x x x x \n",
      " x x x x x x x x x \n",
      "x x x x x x x x x x \n"
     ]
    }
   ],
   "source": [
    "# Using a function\n",
    "def pattern3(x):\n",
    "    for i in range (1, x + 1):\n",
    "        print(\" \"* (x-i) + \"x \"*i)\n",
    "\n",
    "num = int(input(\"Number: \"))\n",
    "pattern3(num)"
   ]
  },
  {
   "cell_type": "markdown",
   "id": "103ce5e4",
   "metadata": {},
   "source": [
    "### 2.4 WAP to print the inverse pyramid pattern of 'x' upto 'n' number."
   ]
  },
  {
   "cell_type": "code",
   "execution_count": null,
   "id": "5754359b",
   "metadata": {},
   "outputs": [
    {
     "name": "stdout",
     "output_type": "stream",
     "text": [
      "x x x x x x x x x x \n",
      " x x x x x x x x x \n",
      "  x x x x x x x x \n",
      "   x x x x x x x \n",
      "    x x x x x x \n",
      "     x x x x x \n",
      "      x x x x \n",
      "       x x x \n",
      "        x x \n",
      "         x \n"
     ]
    }
   ],
   "source": [
    "# Without function\n",
    "x = int(input(\"Number: \"))\n",
    "\n",
    "for i in range (x, 0, -1):\n",
    "    print(\" \"* (x-i) + \"x \"*i)"
   ]
  },
  {
   "cell_type": "code",
   "execution_count": null,
   "id": "a884c141",
   "metadata": {},
   "outputs": [
    {
     "name": "stdout",
     "output_type": "stream",
     "text": [
      "x x x x x x x x x x \n",
      " x x x x x x x x x \n",
      "  x x x x x x x x \n",
      "   x x x x x x x \n",
      "    x x x x x x \n",
      "     x x x x x \n",
      "      x x x x \n",
      "       x x x \n",
      "        x x \n",
      "         x \n"
     ]
    }
   ],
   "source": [
    "# Using a function\n",
    "def pattern4(x):\n",
    "    for i in range (x, 0, -1):\n",
    "        print(\" \"* (x-i) + \"x \"*i)\n",
    "\n",
    "num = int(input(\"Number: \"))\n",
    "pattern4(num)"
   ]
  },
  {
   "cell_type": "markdown",
   "id": "92cc86b2",
   "metadata": {},
   "source": [
    "### 2.3 WAP to print the border of 'x' with space inside upto 'n' number."
   ]
  },
  {
   "cell_type": "code",
   "execution_count": 23,
   "id": "f53a658c",
   "metadata": {},
   "outputs": [
    {
     "name": "stdout",
     "output_type": "stream",
     "text": [
      "x x x x x x x x x x \n",
      "x                 x\n",
      "x                 x\n",
      "x                 x\n",
      "x                 x\n",
      "x                 x\n",
      "x                 x\n",
      "x                 x\n",
      "x                 x\n",
      "x x x x x x x x x x \n"
     ]
    }
   ],
   "source": [
    "x = int(input(\"Number: \"))\n",
    "# print(f\"N: {x}\")\n",
    "\n",
    "for i in range (1, x+1):\n",
    "    if i == 1:\n",
    "        print(\"x \"*x)\n",
    "        continue\n",
    "\n",
    "    if i == x:\n",
    "        print(\"x \"*x)\n",
    "        break\n",
    "\n",
    "    print(f\"x \" + \"  \" * (x-2) + \"x\")"
   ]
  },
  {
   "cell_type": "code",
   "execution_count": 24,
   "id": "c8eddb53",
   "metadata": {},
   "outputs": [
    {
     "name": "stdout",
     "output_type": "stream",
     "text": [
      "x x x x x x x x x x \n",
      "x                 x\n",
      "x                 x\n",
      "x                 x\n",
      "x                 x\n",
      "x                 x\n",
      "x                 x\n",
      "x                 x\n",
      "x                 x\n",
      "x x x x x x x x x x \n"
     ]
    }
   ],
   "source": [
    "# Using a function\n",
    "def pattern5(x):\n",
    "    for i in range (1, x+1):\n",
    "        if i == 1:\n",
    "            print(\"x \"*x)\n",
    "            continue\n",
    "\n",
    "        if i == x:\n",
    "            print(\"x \"*x)\n",
    "            break\n",
    "\n",
    "        print(f\"x \" + \"  \" * (x-2) + \"x\")\n",
    "\n",
    "num = int(input(\"Number: \"))\n",
    "pattern5(num)"
   ]
  }
 ],
 "metadata": {
  "kernelspec": {
   "display_name": "Python 3",
   "language": "python",
   "name": "python3"
  },
  "language_info": {
   "codemirror_mode": {
    "name": "ipython",
    "version": 3
   },
   "file_extension": ".py",
   "mimetype": "text/x-python",
   "name": "python",
   "nbconvert_exporter": "python",
   "pygments_lexer": "ipython3",
   "version": "3.13.3"
  }
 },
 "nbformat": 4,
 "nbformat_minor": 5
}

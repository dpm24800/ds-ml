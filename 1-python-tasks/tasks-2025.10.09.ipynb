{
 "cells": [
  {
   "cell_type": "markdown",
   "id": "eb2a735c",
   "metadata": {},
   "source": [
    "# Tasks: 2025/10/09"
   ]
  },
  {
   "cell_type": "markdown",
   "id": "c5b3ad37",
   "metadata": {},
   "source": [
    "## Q0. WAP to print composite numbers upto 'n' number."
   ]
  },
  {
   "cell_type": "code",
   "execution_count": 17,
   "id": "21327dc4",
   "metadata": {},
   "outputs": [
    {
     "name": "stdout",
     "output_type": "stream",
     "text": [
      "4, 6, 8, 9, 10, 12, 14, 15, 16, 18, 20, 21, 22, 24, 25, 26, 27, 28, 30, 32, 33, 34, 35, 36, 38, 39, 40, 42, 44, 45, 46, 48, 49, 50, "
     ]
    }
   ],
   "source": [
    "# composite numbers upto 'n': without a function\n",
    "num = int(input(\"Composite No. upto: \"))\n",
    "\n",
    "if num <= 1:\n",
    "    print(\"Please, enter non-negative number that's greater than 1 for composite numbers.\")\n",
    "else:\n",
    "    for i in range (2, num + 1):\n",
    "        for j in range (2, i):\n",
    "            if (i % j) == 0:\n",
    "                print(i, end = \", \") # composite numbers\n",
    "                break"
   ]
  },
  {
   "cell_type": "code",
   "execution_count": 18,
   "id": "2133b1fb",
   "metadata": {},
   "outputs": [
    {
     "name": "stdout",
     "output_type": "stream",
     "text": [
      "4, 6, 8, 9, 10, 12, 14, 15, 16, 18, 20, 21, 22, 24, 25, 26, 27, 28, 30, 32, 33, 34, 35, 36, 38, 39, 40, 42, 44, 45, 46, 48, 49, 50, 51, 52, 54, 55, 56, 57, 58, 60, 62, 63, 64, 65, 66, 68, 69, 70, 72, 74, 75, 76, 77, 78, 80, 81, 82, 84, 85, 86, 87, 88, 90, 91, 92, 93, 94, 95, 96, 98, 99, 100, "
     ]
    }
   ],
   "source": [
    "# composite numbers upto 'n': using a function\n",
    "def composite(num):\n",
    "    if num <= 1:\n",
    "        print(\"Please, enter non-negative number that's greater than 1 for composite numbers.\")\n",
    "    else:\n",
    "        for i in range (2, num + 1):\n",
    "            for j in range (2, i):\n",
    "                if (i % j) == 0:\n",
    "                    print(i, end = \", \") # composite numbers\n",
    "                    break\n",
    "\n",
    "num = int(input(\"Composite No. upto: \"))\n",
    "composite(num)"
   ]
  },
  {
   "cell_type": "markdown",
   "id": "59466655",
   "metadata": {},
   "source": [
    "## Q1. WAP to print prime numbers till 'n' numbers."
   ]
  },
  {
   "cell_type": "code",
   "execution_count": 11,
   "id": "f2a01966",
   "metadata": {},
   "outputs": [
    {
     "name": "stdout",
     "output_type": "stream",
     "text": [
      "2, 3, 5, 7, 11, 13, 17, 19, 23, 29, 31, 37, 41, 43, 47, "
     ]
    }
   ],
   "source": [
    "# prime numbers upto 'n': without a function\n",
    "num = int(input(\"Prime No. upto: \"))\n",
    "\n",
    "if num <= 1:\n",
    "    print(\"Please, enter non-negative number that's greater than 1 for prime numbers.\")\n",
    "else:\n",
    "    for i in range (2, num + 1):\n",
    "        for j in range (2, i):\n",
    "            if (i % j) == 0:\n",
    "                # print(i, end = \", \") # composite numbers\n",
    "                break\n",
    "        else:\n",
    "            print(i, end = \", \")"
   ]
  },
  {
   "cell_type": "code",
   "execution_count": 10,
   "id": "86b3870b",
   "metadata": {},
   "outputs": [
    {
     "name": "stdout",
     "output_type": "stream",
     "text": [
      "2, 3, 5, 7, 11, 13, 17, 19, 23, 29, 31, 37, 41, 43, 47, 53, 59, 61, 67, 71, 73, 79, 83, 89, 97, "
     ]
    }
   ],
   "source": [
    "# prime numbers upto 'n': using a function\n",
    "\n",
    "def prime(num):\n",
    "    if num <= 1:\n",
    "        print(\"Please, enter non-negative number that's greater than 1 for prime numbers.\")\n",
    "    else:\n",
    "        for i in range (2, num + 1):\n",
    "            for j in range (2, i):\n",
    "                if (i % j) == 0:\n",
    "                    # print(i, end = \", \") # composite numbers\n",
    "                    break\n",
    "            else:\n",
    "                print(i, end = \", \")\n",
    "\n",
    "num = int(input(\"Prime No. upto: \"))\n",
    "prime(num)\n"
   ]
  },
  {
   "cell_type": "markdown",
   "id": "7575daa0",
   "metadata": {},
   "source": [
    "## Q2. WAP to print the given patterns"
   ]
  },
  {
   "cell_type": "markdown",
   "id": "2ddbdadc",
   "metadata": {},
   "source": [
    "### 2.1 WAP to print the given pattern upto 'n' number.\n",
    "```\n",
    "x  \n",
    "xx  \n",
    "xxx  \n",
    "xxxx  \n",
    "xxxxx \n",
    "``` "
   ]
  },
  {
   "cell_type": "code",
   "execution_count": 138,
   "id": "b4231759",
   "metadata": {},
   "outputs": [
    {
     "name": "stdout",
     "output_type": "stream",
     "text": [
      "x\n",
      "xx\n",
      "xxx\n",
      "xxxx\n",
      "xxxxx\n",
      "xxxxxx\n",
      "xxxxxxx\n",
      "xxxxxxxx\n",
      "xxxxxxxxx\n",
      "xxxxxxxxxx\n"
     ]
    }
   ],
   "source": [
    "# Without a function\n",
    "x = int(input(\"Number: \"))\n",
    "\n",
    "for i in range (1, x + 1):\n",
    "    print(\"x\"*i)"
   ]
  },
  {
   "cell_type": "code",
   "execution_count": 137,
   "id": "152ab75d",
   "metadata": {},
   "outputs": [
    {
     "name": "stdout",
     "output_type": "stream",
     "text": [
      "x\n",
      "xx\n",
      "xxx\n",
      "xxxx\n",
      "xxxxx\n",
      "xxxxxx\n",
      "xxxxxxx\n",
      "xxxxxxxx\n",
      "xxxxxxxxx\n",
      "xxxxxxxxxx\n"
     ]
    }
   ],
   "source": [
    "# Using a function\n",
    "def pattern1(x):\n",
    "    for i in range (1, x + 1):\n",
    "        print(\"x\"*i)\n",
    "\n",
    "num = int(input(\"Number: \"))\n",
    "pattern1(num)"
   ]
  },
  {
   "cell_type": "markdown",
   "id": "e949a324",
   "metadata": {},
   "source": [
    "### 2.2 WAP to print the given pattern upto 'n' number.\n",
    "```\n",
    "    x  \n",
    "   xx  \n",
    "  xxx  \n",
    " xxxx  \n",
    "xxxxx  \n",
    "```"
   ]
  },
  {
   "cell_type": "code",
   "execution_count": 136,
   "id": "6a9fb493",
   "metadata": {},
   "outputs": [
    {
     "name": "stdout",
     "output_type": "stream",
     "text": [
      "         x\n",
      "        xx\n",
      "       xxx\n",
      "      xxxx\n",
      "     xxxxx\n",
      "    xxxxxx\n",
      "   xxxxxxx\n",
      "  xxxxxxxx\n",
      " xxxxxxxxx\n",
      "xxxxxxxxxx\n"
     ]
    }
   ],
   "source": [
    "# Without a function\n",
    "x = int(input(\"Number: \"))\n",
    "for i in range (1, x + 1):\n",
    "    print(\" \" * (x-i) + \"x\"*i)"
   ]
  },
  {
   "cell_type": "code",
   "execution_count": 135,
   "id": "3a9b2eed",
   "metadata": {},
   "outputs": [
    {
     "name": "stdout",
     "output_type": "stream",
     "text": [
      "         x\n",
      "        xx\n",
      "       xxx\n",
      "      xxxx\n",
      "     xxxxx\n",
      "    xxxxxx\n",
      "   xxxxxxx\n",
      "  xxxxxxxx\n",
      " xxxxxxxxx\n",
      "xxxxxxxxxx\n"
     ]
    }
   ],
   "source": [
    "# Using a function\n",
    "def pattern2(x):\n",
    "    for i in range (1, x + 1):\n",
    "        print(\" \" * (x-i) + \"x\"*i)\n",
    "\n",
    "num = int(input(\"Number: \"))\n",
    "pattern2(num)"
   ]
  },
  {
   "cell_type": "markdown",
   "id": "11127323",
   "metadata": {},
   "source": [
    "### 2.3 WAP to print the pyramid pattern of 'x' upto 'n' number."
   ]
  },
  {
   "cell_type": "code",
   "execution_count": 134,
   "id": "42e7b61e",
   "metadata": {},
   "outputs": [
    {
     "name": "stdout",
     "output_type": "stream",
     "text": [
      "         x \n",
      "        x x \n",
      "       x x x \n",
      "      x x x x \n",
      "     x x x x x \n",
      "    x x x x x x \n",
      "   x x x x x x x \n",
      "  x x x x x x x x \n",
      " x x x x x x x x x \n",
      "x x x x x x x x x x \n"
     ]
    }
   ],
   "source": [
    "# Without a function\n",
    "x = int(input(\"Number: \"))\n",
    "\n",
    "for i in range (1, x + 1):\n",
    "    print(\" \"* (x-i) + \"x \"*i)"
   ]
  },
  {
   "cell_type": "code",
   "execution_count": 133,
   "id": "c8f2294b",
   "metadata": {},
   "outputs": [
    {
     "name": "stdout",
     "output_type": "stream",
     "text": [
      "         x \n",
      "        x x \n",
      "       x x x \n",
      "      x x x x \n",
      "     x x x x x \n",
      "    x x x x x x \n",
      "   x x x x x x x \n",
      "  x x x x x x x x \n",
      " x x x x x x x x x \n",
      "x x x x x x x x x x \n"
     ]
    }
   ],
   "source": [
    "# Using a function\n",
    "def pattern3(x):\n",
    "    for i in range (1, x + 1):\n",
    "        print(\" \"* (x-i) + \"x \"*i)\n",
    "\n",
    "num = int(input(\"Number: \"))\n",
    "pattern3(num)"
   ]
  },
  {
   "cell_type": "markdown",
   "id": "103ce5e4",
   "metadata": {},
   "source": [
    "### 2.4 WAP to print the inverse pyramid pattern of 'x' upto 'n' number."
   ]
  },
  {
   "cell_type": "code",
   "execution_count": 132,
   "id": "5754359b",
   "metadata": {},
   "outputs": [
    {
     "name": "stdout",
     "output_type": "stream",
     "text": [
      "x x x x x x x x x x \n",
      " x x x x x x x x x \n",
      "  x x x x x x x x \n",
      "   x x x x x x x \n",
      "    x x x x x x \n",
      "     x x x x x \n",
      "      x x x x \n",
      "       x x x \n",
      "        x x \n",
      "         x \n"
     ]
    }
   ],
   "source": [
    "# Without a function\n",
    "x = int(input(\"Number: \"))\n",
    "\n",
    "for i in range (x, 0, -1):\n",
    "    print(\" \"* (x-i) + \"x \"*i)"
   ]
  },
  {
   "cell_type": "code",
   "execution_count": 131,
   "id": "a884c141",
   "metadata": {},
   "outputs": [
    {
     "name": "stdout",
     "output_type": "stream",
     "text": [
      "x x x x x x x x x x \n",
      " x x x x x x x x x \n",
      "  x x x x x x x x \n",
      "   x x x x x x x \n",
      "    x x x x x x \n",
      "     x x x x x \n",
      "      x x x x \n",
      "       x x x \n",
      "        x x \n",
      "         x \n"
     ]
    }
   ],
   "source": [
    "# Using a function\n",
    "def pattern4(x):\n",
    "    for i in range (x, 0, -1):\n",
    "        print(\" \"* (x-i) + \"x \"*i)\n",
    "\n",
    "num = int(input(\"Number: \"))\n",
    "pattern4(num)"
   ]
  },
  {
   "cell_type": "markdown",
   "id": "92cc86b2",
   "metadata": {},
   "source": [
    "### 2.3 WAP to print the border of 'x' with space inside upto 'n' number."
   ]
  },
  {
   "cell_type": "code",
   "execution_count": 130,
   "id": "f53a658c",
   "metadata": {},
   "outputs": [
    {
     "name": "stdout",
     "output_type": "stream",
     "text": [
      "x x x x x x x x x x \n",
      "x                 x\n",
      "x                 x\n",
      "x                 x\n",
      "x                 x\n",
      "x                 x\n",
      "x                 x\n",
      "x                 x\n",
      "x                 x\n",
      "x x x x x x x x x x \n"
     ]
    }
   ],
   "source": [
    "# Without a function\n",
    "\n",
    "x = int(input(\"Number: \"))\n",
    "# print(f\"N: {x}\")\n",
    "\n",
    "for i in range (1, x+1):\n",
    "    if i == 1:\n",
    "        print(\"x \"*x)\n",
    "        continue\n",
    "\n",
    "    if i == x:\n",
    "        print(\"x \"*x)\n",
    "        break\n",
    "\n",
    "    print(f\"x \" + \"  \" * (x-2) + \"x\")"
   ]
  },
  {
   "cell_type": "code",
   "execution_count": 129,
   "id": "c8eddb53",
   "metadata": {},
   "outputs": [
    {
     "name": "stdout",
     "output_type": "stream",
     "text": [
      "x x x x x x x x x x \n",
      "x                 x\n",
      "x                 x\n",
      "x                 x\n",
      "x                 x\n",
      "x                 x\n",
      "x                 x\n",
      "x                 x\n",
      "x                 x\n",
      "x x x x x x x x x x \n"
     ]
    }
   ],
   "source": [
    "# Using a function\n",
    "\n",
    "def pattern5(x):\n",
    "    for i in range (1, x+1):\n",
    "        if i == 1:\n",
    "            print(\"x \"*x)\n",
    "            continue\n",
    "\n",
    "        if i == x:\n",
    "            print(\"x \"*x)\n",
    "            break\n",
    "\n",
    "        print(f\"x \" + \"  \" * (x-2) + \"x\") # \n",
    "\n",
    "num = int(input(\"Number: \"))\n",
    "pattern5(num)"
   ]
  },
  {
   "cell_type": "code",
   "execution_count": 128,
   "id": "f8d6f7ca",
   "metadata": {},
   "outputs": [
    {
     "name": "stdout",
     "output_type": "stream",
     "text": [
      "x x x x x x x x x x \n",
      "x                 x \n",
      "x                 x \n",
      "x                 x \n",
      "x                 x \n",
      "x                 x \n",
      "x                 x \n",
      "x                 x \n",
      "x                 x \n",
      "x x x x x x x x x x \n"
     ]
    }
   ],
   "source": [
    "# Sister Ashira's code: tested\n",
    "n = int(input(\"Enter: \"))\n",
    "\n",
    "for i in range(1, n + 1): # for row\n",
    "    for j in range(1, n + 1): # for column\n",
    "        if i == 1 or i == n or j == 1 or j == n : #check for 4 borders\n",
    "            print('x', end = ' ')\n",
    "        else:\n",
    "            print(' ', end = ' ') # spacing\n",
    "    print()"
   ]
  }
 ],
 "metadata": {
  "kernelspec": {
   "display_name": "Python 3",
   "language": "python",
   "name": "python3"
  },
  "language_info": {
   "codemirror_mode": {
    "name": "ipython",
    "version": 3
   },
   "file_extension": ".py",
   "mimetype": "text/x-python",
   "name": "python",
   "nbconvert_exporter": "python",
   "pygments_lexer": "ipython3",
   "version": "3.13.3"
  }
 },
 "nbformat": 4,
 "nbformat_minor": 5
}
